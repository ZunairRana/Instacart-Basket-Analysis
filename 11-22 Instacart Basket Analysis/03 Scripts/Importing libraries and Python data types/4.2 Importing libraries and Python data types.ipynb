{
 "cells": [
  {
   "cell_type": "markdown",
   "id": "c03e5442",
   "metadata": {},
   "source": [
    "#01. Importing libraries"
   ]
  },
  {
   "cell_type": "code",
   "execution_count": 1,
   "id": "31b299f5",
   "metadata": {},
   "outputs": [],
   "source": [
    "# Import libraries\n",
    "import pandas as pd\n",
    "import numpy as np\n",
    "import os"
   ]
  },
  {
   "cell_type": "markdown",
   "id": "166667b5",
   "metadata": {},
   "source": [
    "#02 Data types"
   ]
  },
  {
   "cell_type": "code",
   "execution_count": 25,
   "id": "38983f9e",
   "metadata": {},
   "outputs": [],
   "source": [
    "# Integers - 3 ways to reach 100"
   ]
  },
  {
   "cell_type": "code",
   "execution_count": 26,
   "id": "aaf64208",
   "metadata": {},
   "outputs": [],
   "source": [
    "x = 70 + 30"
   ]
  },
  {
   "cell_type": "code",
   "execution_count": 27,
   "id": "75020035",
   "metadata": {},
   "outputs": [],
   "source": [
    "y = 150 - 50"
   ]
  },
  {
   "cell_type": "code",
   "execution_count": 28,
   "id": "c2c2f4ed",
   "metadata": {},
   "outputs": [],
   "source": [
    "z = 10 * 10"
   ]
  },
  {
   "cell_type": "code",
   "execution_count": 30,
   "id": "64826665",
   "metadata": {},
   "outputs": [
    {
     "name": "stdout",
     "output_type": "stream",
     "text": [
      "100 100 100\n"
     ]
    }
   ],
   "source": [
    "print(x,y,z)"
   ]
  },
  {
   "cell_type": "code",
   "execution_count": 32,
   "id": "feb381fc",
   "metadata": {},
   "outputs": [
    {
     "data": {
      "text/plain": [
       "(0.35172413793103446, 2.843137254901961)"
      ]
     },
     "execution_count": 32,
     "metadata": {},
     "output_type": "execute_result"
    }
   ],
   "source": [
    "# Code 2 floating point and divide them by each other\n",
    "a = 2.55\n",
    "b = 7.25\n",
    "a/b , b/a"
   ]
  },
  {
   "cell_type": "code",
   "execution_count": 34,
   "id": "1c0ccf11",
   "metadata": {},
   "outputs": [
    {
     "data": {
      "text/plain": [
       "'construct'"
      ]
     },
     "execution_count": 34,
     "metadata": {},
     "output_type": "execute_result"
    }
   ],
   "source": [
    "# Concatenate two strings\n",
    "f = 'cons'\n",
    "g = 'truct'\n",
    "f + g"
   ]
  },
  {
   "cell_type": "code",
   "execution_count": 35,
   "id": "31552b6a",
   "metadata": {},
   "outputs": [
    {
     "data": {
      "text/plain": [
       "'Hi, my nameis Zunair Rana'"
      ]
     },
     "execution_count": 35,
     "metadata": {},
     "output_type": "execute_result"
    }
   ],
   "source": [
    "# Write a sentence from 2 stings\n",
    "h = 'Hi, my name'\n",
    "i = 'is Zunair Rana'\n",
    "h + i"
   ]
  },
  {
   "cell_type": "code",
   "execution_count": 36,
   "id": "74e61e57",
   "metadata": {},
   "outputs": [
    {
     "data": {
      "text/plain": [
       "'datadatadatadatadatadatadatadatadatadatadatadatadatadatadatadatadatadatadatadatadatadatadatadatadatadatadatadatadatadatadatadatadatadatadatadatadatadatadatadatadatadatadatadatadatadatadatadatadatadatadatadatadatadatadatadatadatadatadatadatadatadatadatadatadatadatadatadatadatadatadatadatadatadatadatadatadatadatadatadatadatadatadatadatadatadatadatadatadatadatadatadatadatadatadatadatadatadatadatadata'"
      ]
     },
     "execution_count": 36,
     "metadata": {},
     "output_type": "execute_result"
    }
   ],
   "source": [
    "# Make string appear 100 times\n",
    "j = 'data'\n",
    "j * 100"
   ]
  },
  {
   "cell_type": "code",
   "execution_count": null,
   "id": "d00fdf98",
   "metadata": {},
   "outputs": [],
   "source": []
  }
 ],
 "metadata": {
  "kernelspec": {
   "display_name": "Python 3 (ipykernel)",
   "language": "python",
   "name": "python3"
  },
  "language_info": {
   "codemirror_mode": {
    "name": "ipython",
    "version": 3
   },
   "file_extension": ".py",
   "mimetype": "text/x-python",
   "name": "python",
   "nbconvert_exporter": "python",
   "pygments_lexer": "ipython3",
   "version": "3.9.13"
  }
 },
 "nbformat": 4,
 "nbformat_minor": 5
}

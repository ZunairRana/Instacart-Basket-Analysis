{
 "cells": [
  {
   "cell_type": "markdown",
   "id": "878360b2",
   "metadata": {},
   "source": [
    "# Contents\n",
    "\n",
    "01 Importing Libraries and Data\n",
    "\n",
    "02 Data Privacy (PII)\n",
    "\n",
    "03 Creating Regions Column\n",
    "\n",
    "04 Create an exclusion flag for low-activity customers \n",
    "\n",
    "05 Creating Customer and Department Profiles\n",
    "\n",
    "06 Comparing Customer Profiles with Regions and Departments\n",
    "\n",
    "07 Exporting Final Dataframe"
   ]
  },
  {
   "cell_type": "markdown",
   "id": "09a8cbd5",
   "metadata": {},
   "source": [
    "# 01 Importing Libraries and Data set"
   ]
  },
  {
   "cell_type": "code",
   "execution_count": 1,
   "id": "4187333d",
   "metadata": {},
   "outputs": [],
   "source": [
    "# Importing libraries\n",
    "import pandas as pd\n",
    "import numpy as np\n",
    "import os\n",
    "import matplotlib.pyplot as plt\n",
    "import seaborn as sns\n",
    "import scipy"
   ]
  },
  {
   "cell_type": "code",
   "execution_count": 2,
   "id": "efc0c92f",
   "metadata": {},
   "outputs": [],
   "source": [
    "# Creating path \n",
    "path = r'C:\\Users\\zunai\\OneDrive\\Documents\\Data Analytics\\Achievement 4\\11-22 Instacart Basket Analysis'"
   ]
  },
  {
   "cell_type": "code",
   "execution_count": 3,
   "id": "184d75d7",
   "metadata": {},
   "outputs": [],
   "source": [
    "# Importing final data set\n",
    "df = pd.read_pickle(os.path.join(path, '02 Data', 'Prepared data', 'full_instacart_data.pkl'))"
   ]
  },
  {
   "cell_type": "code",
   "execution_count": 4,
   "id": "c3d19fe2",
   "metadata": {},
   "outputs": [
    {
     "data": {
      "text/html": [
       "<div>\n",
       "<style scoped>\n",
       "    .dataframe tbody tr th:only-of-type {\n",
       "        vertical-align: middle;\n",
       "    }\n",
       "\n",
       "    .dataframe tbody tr th {\n",
       "        vertical-align: top;\n",
       "    }\n",
       "\n",
       "    .dataframe thead th {\n",
       "        text-align: right;\n",
       "    }\n",
       "</style>\n",
       "<table border=\"1\" class=\"dataframe\">\n",
       "  <thead>\n",
       "    <tr style=\"text-align: right;\">\n",
       "      <th></th>\n",
       "      <th>order_id</th>\n",
       "      <th>user_id</th>\n",
       "      <th>order_number</th>\n",
       "      <th>order_dow</th>\n",
       "      <th>order_hour_of_day</th>\n",
       "      <th>days_since_prior_order</th>\n",
       "      <th>product_id</th>\n",
       "      <th>add_to_cart_order</th>\n",
       "      <th>reordered</th>\n",
       "      <th>product_name</th>\n",
       "      <th>...</th>\n",
       "      <th>frequency_flag</th>\n",
       "      <th>first_name</th>\n",
       "      <th>surname</th>\n",
       "      <th>gender</th>\n",
       "      <th>state</th>\n",
       "      <th>age</th>\n",
       "      <th>date_joined</th>\n",
       "      <th>no_of_dependants</th>\n",
       "      <th>marital_status</th>\n",
       "      <th>income</th>\n",
       "    </tr>\n",
       "  </thead>\n",
       "  <tbody>\n",
       "    <tr>\n",
       "      <th>0</th>\n",
       "      <td>2539329</td>\n",
       "      <td>1</td>\n",
       "      <td>1</td>\n",
       "      <td>2</td>\n",
       "      <td>8</td>\n",
       "      <td>999.0</td>\n",
       "      <td>196</td>\n",
       "      <td>1</td>\n",
       "      <td>0</td>\n",
       "      <td>Soda</td>\n",
       "      <td>...</td>\n",
       "      <td>Non-frequent customer</td>\n",
       "      <td>Linda</td>\n",
       "      <td>Nguyen</td>\n",
       "      <td>Female</td>\n",
       "      <td>Alabama</td>\n",
       "      <td>31</td>\n",
       "      <td>2/17/2019</td>\n",
       "      <td>3</td>\n",
       "      <td>married</td>\n",
       "      <td>40423</td>\n",
       "    </tr>\n",
       "    <tr>\n",
       "      <th>1</th>\n",
       "      <td>2398795</td>\n",
       "      <td>1</td>\n",
       "      <td>2</td>\n",
       "      <td>3</td>\n",
       "      <td>7</td>\n",
       "      <td>15.0</td>\n",
       "      <td>196</td>\n",
       "      <td>1</td>\n",
       "      <td>1</td>\n",
       "      <td>Soda</td>\n",
       "      <td>...</td>\n",
       "      <td>Non-frequent customer</td>\n",
       "      <td>Linda</td>\n",
       "      <td>Nguyen</td>\n",
       "      <td>Female</td>\n",
       "      <td>Alabama</td>\n",
       "      <td>31</td>\n",
       "      <td>2/17/2019</td>\n",
       "      <td>3</td>\n",
       "      <td>married</td>\n",
       "      <td>40423</td>\n",
       "    </tr>\n",
       "    <tr>\n",
       "      <th>2</th>\n",
       "      <td>473747</td>\n",
       "      <td>1</td>\n",
       "      <td>3</td>\n",
       "      <td>3</td>\n",
       "      <td>12</td>\n",
       "      <td>21.0</td>\n",
       "      <td>196</td>\n",
       "      <td>1</td>\n",
       "      <td>1</td>\n",
       "      <td>Soda</td>\n",
       "      <td>...</td>\n",
       "      <td>Non-frequent customer</td>\n",
       "      <td>Linda</td>\n",
       "      <td>Nguyen</td>\n",
       "      <td>Female</td>\n",
       "      <td>Alabama</td>\n",
       "      <td>31</td>\n",
       "      <td>2/17/2019</td>\n",
       "      <td>3</td>\n",
       "      <td>married</td>\n",
       "      <td>40423</td>\n",
       "    </tr>\n",
       "    <tr>\n",
       "      <th>3</th>\n",
       "      <td>2254736</td>\n",
       "      <td>1</td>\n",
       "      <td>4</td>\n",
       "      <td>4</td>\n",
       "      <td>7</td>\n",
       "      <td>29.0</td>\n",
       "      <td>196</td>\n",
       "      <td>1</td>\n",
       "      <td>1</td>\n",
       "      <td>Soda</td>\n",
       "      <td>...</td>\n",
       "      <td>Non-frequent customer</td>\n",
       "      <td>Linda</td>\n",
       "      <td>Nguyen</td>\n",
       "      <td>Female</td>\n",
       "      <td>Alabama</td>\n",
       "      <td>31</td>\n",
       "      <td>2/17/2019</td>\n",
       "      <td>3</td>\n",
       "      <td>married</td>\n",
       "      <td>40423</td>\n",
       "    </tr>\n",
       "    <tr>\n",
       "      <th>4</th>\n",
       "      <td>431534</td>\n",
       "      <td>1</td>\n",
       "      <td>5</td>\n",
       "      <td>4</td>\n",
       "      <td>15</td>\n",
       "      <td>28.0</td>\n",
       "      <td>196</td>\n",
       "      <td>1</td>\n",
       "      <td>1</td>\n",
       "      <td>Soda</td>\n",
       "      <td>...</td>\n",
       "      <td>Non-frequent customer</td>\n",
       "      <td>Linda</td>\n",
       "      <td>Nguyen</td>\n",
       "      <td>Female</td>\n",
       "      <td>Alabama</td>\n",
       "      <td>31</td>\n",
       "      <td>2/17/2019</td>\n",
       "      <td>3</td>\n",
       "      <td>married</td>\n",
       "      <td>40423</td>\n",
       "    </tr>\n",
       "  </tbody>\n",
       "</table>\n",
       "<p>5 rows × 33 columns</p>\n",
       "</div>"
      ],
      "text/plain": [
       "   order_id user_id  order_number  order_dow  order_hour_of_day  \\\n",
       "0   2539329       1             1          2                  8   \n",
       "1   2398795       1             2          3                  7   \n",
       "2    473747       1             3          3                 12   \n",
       "3   2254736       1             4          4                  7   \n",
       "4    431534       1             5          4                 15   \n",
       "\n",
       "   days_since_prior_order  product_id  add_to_cart_order  reordered  \\\n",
       "0                   999.0         196                  1          0   \n",
       "1                    15.0         196                  1          1   \n",
       "2                    21.0         196                  1          1   \n",
       "3                    29.0         196                  1          1   \n",
       "4                    28.0         196                  1          1   \n",
       "\n",
       "  product_name  ...         frequency_flag  first_name  surname  gender  \\\n",
       "0         Soda  ...  Non-frequent customer       Linda   Nguyen  Female   \n",
       "1         Soda  ...  Non-frequent customer       Linda   Nguyen  Female   \n",
       "2         Soda  ...  Non-frequent customer       Linda   Nguyen  Female   \n",
       "3         Soda  ...  Non-frequent customer       Linda   Nguyen  Female   \n",
       "4         Soda  ...  Non-frequent customer       Linda   Nguyen  Female   \n",
       "\n",
       "     state age date_joined no_of_dependants  marital_status income  \n",
       "0  Alabama  31   2/17/2019                3         married  40423  \n",
       "1  Alabama  31   2/17/2019                3         married  40423  \n",
       "2  Alabama  31   2/17/2019                3         married  40423  \n",
       "3  Alabama  31   2/17/2019                3         married  40423  \n",
       "4  Alabama  31   2/17/2019                3         married  40423  \n",
       "\n",
       "[5 rows x 33 columns]"
      ]
     },
     "execution_count": 4,
     "metadata": {},
     "output_type": "execute_result"
    }
   ],
   "source": [
    "df.head()"
   ]
  },
  {
   "cell_type": "code",
   "execution_count": 5,
   "id": "6f8c9ef2",
   "metadata": {},
   "outputs": [
    {
     "data": {
      "text/plain": [
       "(32404859, 33)"
      ]
     },
     "execution_count": 5,
     "metadata": {},
     "output_type": "execute_result"
    }
   ],
   "source": [
    "df.shape"
   ]
  },
  {
   "cell_type": "markdown",
   "id": "fb812a7c",
   "metadata": {},
   "source": [
    "# 02 Data privacy (PII)"
   ]
  },
  {
   "cell_type": "markdown",
   "id": "dfe86388",
   "metadata": {},
   "source": [
    "#### Data set include the first name and surnames of customers which is personally identifiable information and therefore these columns should be dropped from the data set (after consulting with senior analyst)"
   ]
  },
  {
   "cell_type": "code",
   "execution_count": 6,
   "id": "bf088cc5",
   "metadata": {},
   "outputs": [
    {
     "data": {
      "text/plain": [
       "Index(['order_id', 'user_id', 'order_number', 'order_dow', 'order_hour_of_day',\n",
       "       'days_since_prior_order', 'product_id', 'add_to_cart_order',\n",
       "       'reordered', 'product_name', 'aisle_id', 'department_id', 'prices',\n",
       "       '_merge', 'price_range_loc', 'Busiest day', 'Busiest days',\n",
       "       'Busiest_hours_of_day', 'max_order', 'loyalty_flag', 'average_price',\n",
       "       'spender_flag', 'median_days_since_prior_order', 'frequency_flag',\n",
       "       'first_name', 'surname', 'gender', 'state', 'age', 'date_joined',\n",
       "       'no_of_dependants', 'marital_status', 'income'],\n",
       "      dtype='object')"
      ]
     },
     "execution_count": 6,
     "metadata": {},
     "output_type": "execute_result"
    }
   ],
   "source": [
    "# Checking data columns\n",
    "df.columns"
   ]
  },
  {
   "cell_type": "code",
   "execution_count": 7,
   "id": "7967ae42",
   "metadata": {},
   "outputs": [],
   "source": [
    "df = df.drop(columns = ['first_name', 'surname'])"
   ]
  },
  {
   "cell_type": "code",
   "execution_count": 8,
   "id": "b2020e99",
   "metadata": {},
   "outputs": [
    {
     "data": {
      "text/plain": [
       "Index(['order_id', 'user_id', 'order_number', 'order_dow', 'order_hour_of_day',\n",
       "       'days_since_prior_order', 'product_id', 'add_to_cart_order',\n",
       "       'reordered', 'product_name', 'aisle_id', 'department_id', 'prices',\n",
       "       '_merge', 'price_range_loc', 'Busiest day', 'Busiest days',\n",
       "       'Busiest_hours_of_day', 'max_order', 'loyalty_flag', 'average_price',\n",
       "       'spender_flag', 'median_days_since_prior_order', 'frequency_flag',\n",
       "       'gender', 'state', 'age', 'date_joined', 'no_of_dependants',\n",
       "       'marital_status', 'income'],\n",
       "      dtype='object')"
      ]
     },
     "execution_count": 8,
     "metadata": {},
     "output_type": "execute_result"
    }
   ],
   "source": [
    "# Checking column were removed\n",
    "df.columns"
   ]
  },
  {
   "cell_type": "markdown",
   "id": "d8699299",
   "metadata": {},
   "source": [
    "# 03 Creating Regions Column"
   ]
  },
  {
   "cell_type": "code",
   "execution_count": 9,
   "id": "ef106fa2",
   "metadata": {},
   "outputs": [],
   "source": [
    "# Creating regions lists (info from - https://simple.wikipedia.org/wiki/List_of_regions_of_the_United_States)\n",
    "northeast=['Maine','New Hampshire','Vermont','Massachusetts','Rhode Island','Connecticut','New York','Pennsylvania','New Jersey']\n",
    "midwest=['Wisconsin','Michigan','Illinois','Indiana','Ohio','North Dakota','South Dakota','Nebraska','Kansas','Minnesota','Iowa','Missouri']\n",
    "south=['Delaware','Maryland','District of Columbia','Virginia','West Virginia','North Carolina','South Carolina','Georgia','Florida','Kentucky', 'Tennessee','Mississippi','Alabama','Oklahoma','Texas','Arkansas','Louisiana']\n",
    "west=['Idaho','Montana','Wyoming','Nevada','Utah','Colorado','Arizona','New Mexico','Alaska','Washington','Oregon','California','Hawaii']"
   ]
  },
  {
   "cell_type": "code",
   "execution_count": 10,
   "id": "2b1556ce",
   "metadata": {},
   "outputs": [],
   "source": [
    "# Creating region column \n",
    "df.loc[df['state'].isin(northeast), 'region'] = 'Northeast'\n",
    "df.loc[df['state'].isin(midwest), 'region'] = 'Midwest'\n",
    "df.loc[df['state'].isin(south), 'region'] = 'South'\n",
    "df.loc[df['state'].isin(west), 'region'] = 'West'"
   ]
  },
  {
   "cell_type": "code",
   "execution_count": 11,
   "id": "e4f725ee",
   "metadata": {},
   "outputs": [
    {
     "data": {
      "text/plain": [
       "32404859"
      ]
     },
     "execution_count": 11,
     "metadata": {},
     "output_type": "execute_result"
    }
   ],
   "source": [
    "# Checking length of new column\n",
    "len(df['region'])"
   ]
  },
  {
   "cell_type": "code",
   "execution_count": 12,
   "id": "0a1ff160",
   "metadata": {},
   "outputs": [
    {
     "data": {
      "text/plain": [
       "South        10791885\n",
       "West          8292913\n",
       "Midwest       7597325\n",
       "Northeast     5722736\n",
       "Name: region, dtype: int64"
      ]
     },
     "execution_count": 12,
     "metadata": {},
     "output_type": "execute_result"
    }
   ],
   "source": [
    "# Checking frequency\n",
    "df['region'].value_counts(dropna = False)"
   ]
  },
  {
   "cell_type": "markdown",
   "id": "64be4e34",
   "metadata": {},
   "source": [
    "#### Determine whether there’s a difference in spending habits between the different U.S. regions"
   ]
  },
  {
   "cell_type": "code",
   "execution_count": 13,
   "id": "d827775c",
   "metadata": {},
   "outputs": [
    {
     "data": {
      "text/html": [
       "<div>\n",
       "<style scoped>\n",
       "    .dataframe tbody tr th:only-of-type {\n",
       "        vertical-align: middle;\n",
       "    }\n",
       "\n",
       "    .dataframe tbody tr th {\n",
       "        vertical-align: top;\n",
       "    }\n",
       "\n",
       "    .dataframe thead th {\n",
       "        text-align: right;\n",
       "    }\n",
       "</style>\n",
       "<table border=\"1\" class=\"dataframe\">\n",
       "  <thead>\n",
       "    <tr style=\"text-align: right;\">\n",
       "      <th>spender_flag</th>\n",
       "      <th>High spender</th>\n",
       "      <th>Low spender</th>\n",
       "    </tr>\n",
       "    <tr>\n",
       "      <th>region</th>\n",
       "      <th></th>\n",
       "      <th></th>\n",
       "    </tr>\n",
       "  </thead>\n",
       "  <tbody>\n",
       "    <tr>\n",
       "      <th>Midwest</th>\n",
       "      <td>0.004813</td>\n",
       "      <td>0.229637</td>\n",
       "    </tr>\n",
       "    <tr>\n",
       "      <th>Northeast</th>\n",
       "      <td>0.003340</td>\n",
       "      <td>0.173261</td>\n",
       "    </tr>\n",
       "    <tr>\n",
       "      <th>South</th>\n",
       "      <td>0.006471</td>\n",
       "      <td>0.326562</td>\n",
       "    </tr>\n",
       "    <tr>\n",
       "      <th>West</th>\n",
       "      <td>0.004948</td>\n",
       "      <td>0.250967</td>\n",
       "    </tr>\n",
       "  </tbody>\n",
       "</table>\n",
       "</div>"
      ],
      "text/plain": [
       "spender_flag  High spender  Low spender\n",
       "region                                 \n",
       "Midwest           0.004813     0.229637\n",
       "Northeast         0.003340     0.173261\n",
       "South             0.006471     0.326562\n",
       "West              0.004948     0.250967"
      ]
     },
     "execution_count": 13,
     "metadata": {},
     "output_type": "execute_result"
    }
   ],
   "source": [
    "#Creating a crosstab (with values as percentage) to compare region and spending flag\n",
    "crosstab = pd.crosstab(df['region'], df['spender_flag'], normalize = True, dropna = False)\n",
    "crosstab"
   ]
  },
  {
   "cell_type": "markdown",
   "id": "86b20f93",
   "metadata": {},
   "source": [
    "# 04 Create an exclusion flag for low-activity customers (customers with less than 5 orders) and exclude them from the data"
   ]
  },
  {
   "cell_type": "code",
   "execution_count": 14,
   "id": "fb815a16",
   "metadata": {},
   "outputs": [],
   "source": [
    "# Creating exclusion flag column\n",
    "df.loc[df['max_order'] <= 5, 'activity'] = 0\n",
    "df.loc[df['max_order'] > 5, 'activity'] = 1"
   ]
  },
  {
   "cell_type": "code",
   "execution_count": 15,
   "id": "e7a41608",
   "metadata": {},
   "outputs": [
    {
     "data": {
      "text/plain": [
       "1.0    30171424\n",
       "0.0     2233435\n",
       "Name: activity, dtype: int64"
      ]
     },
     "execution_count": 15,
     "metadata": {},
     "output_type": "execute_result"
    }
   ],
   "source": [
    "# Checking frequency of new column (activity)\n",
    "df['activity'].value_counts(dropna = False)"
   ]
  },
  {
   "cell_type": "code",
   "execution_count": 16,
   "id": "41d37169",
   "metadata": {},
   "outputs": [
    {
     "data": {
      "text/plain": [
       "32404859"
      ]
     },
     "execution_count": 16,
     "metadata": {},
     "output_type": "execute_result"
    }
   ],
   "source": [
    "# Check column length\n",
    "len(df['activity'])"
   ]
  },
  {
   "cell_type": "code",
   "execution_count": 17,
   "id": "02990213",
   "metadata": {},
   "outputs": [],
   "source": [
    "# Creating a dataframe of customers with orders less than 5\n",
    "df_low_activity = df[df['activity'] == 0]"
   ]
  },
  {
   "cell_type": "code",
   "execution_count": 19,
   "id": "26a19981",
   "metadata": {},
   "outputs": [
    {
     "data": {
      "text/plain": [
       "0.0    2233435\n",
       "Name: activity, dtype: int64"
      ]
     },
     "execution_count": 19,
     "metadata": {},
     "output_type": "execute_result"
    }
   ],
   "source": [
    "# Checking low activity dataframe frequency\n",
    "df_low_activity['activity'].value_counts(dropna = False)"
   ]
  },
  {
   "cell_type": "code",
   "execution_count": 20,
   "id": "94c4b4d9",
   "metadata": {},
   "outputs": [],
   "source": [
    "# Exporting low activity dataframe\n",
    "df_low_activity.to_pickle(os.path.join(path, '02 Data', 'Prepared data', 'low_activity.pkl'))"
   ]
  },
  {
   "cell_type": "code",
   "execution_count": 21,
   "id": "5124a780",
   "metadata": {},
   "outputs": [],
   "source": [
    "#Deleting low activity dataframe to reduce memory usage\n",
    "del df_low_activity"
   ]
  },
  {
   "cell_type": "code",
   "execution_count": 22,
   "id": "f2f1e853",
   "metadata": {},
   "outputs": [],
   "source": [
    "# Creating data frame for active customers (customer with >5 orders)\n",
    "df_active = df[df['activity'] == 1]"
   ]
  },
  {
   "cell_type": "code",
   "execution_count": 23,
   "id": "fd51101b",
   "metadata": {},
   "outputs": [
    {
     "data": {
      "text/html": [
       "<div>\n",
       "<style scoped>\n",
       "    .dataframe tbody tr th:only-of-type {\n",
       "        vertical-align: middle;\n",
       "    }\n",
       "\n",
       "    .dataframe tbody tr th {\n",
       "        vertical-align: top;\n",
       "    }\n",
       "\n",
       "    .dataframe thead th {\n",
       "        text-align: right;\n",
       "    }\n",
       "</style>\n",
       "<table border=\"1\" class=\"dataframe\">\n",
       "  <thead>\n",
       "    <tr style=\"text-align: right;\">\n",
       "      <th></th>\n",
       "      <th>order_id</th>\n",
       "      <th>user_id</th>\n",
       "      <th>order_number</th>\n",
       "      <th>order_dow</th>\n",
       "      <th>order_hour_of_day</th>\n",
       "      <th>days_since_prior_order</th>\n",
       "      <th>product_id</th>\n",
       "      <th>add_to_cart_order</th>\n",
       "      <th>reordered</th>\n",
       "      <th>product_name</th>\n",
       "      <th>...</th>\n",
       "      <th>frequency_flag</th>\n",
       "      <th>gender</th>\n",
       "      <th>state</th>\n",
       "      <th>age</th>\n",
       "      <th>date_joined</th>\n",
       "      <th>no_of_dependants</th>\n",
       "      <th>marital_status</th>\n",
       "      <th>income</th>\n",
       "      <th>region</th>\n",
       "      <th>activity</th>\n",
       "    </tr>\n",
       "  </thead>\n",
       "  <tbody>\n",
       "    <tr>\n",
       "      <th>0</th>\n",
       "      <td>2539329</td>\n",
       "      <td>1</td>\n",
       "      <td>1</td>\n",
       "      <td>2</td>\n",
       "      <td>8</td>\n",
       "      <td>999.0</td>\n",
       "      <td>196</td>\n",
       "      <td>1</td>\n",
       "      <td>0</td>\n",
       "      <td>Soda</td>\n",
       "      <td>...</td>\n",
       "      <td>Non-frequent customer</td>\n",
       "      <td>Female</td>\n",
       "      <td>Alabama</td>\n",
       "      <td>31</td>\n",
       "      <td>2/17/2019</td>\n",
       "      <td>3</td>\n",
       "      <td>married</td>\n",
       "      <td>40423</td>\n",
       "      <td>South</td>\n",
       "      <td>1.0</td>\n",
       "    </tr>\n",
       "    <tr>\n",
       "      <th>1</th>\n",
       "      <td>2398795</td>\n",
       "      <td>1</td>\n",
       "      <td>2</td>\n",
       "      <td>3</td>\n",
       "      <td>7</td>\n",
       "      <td>15.0</td>\n",
       "      <td>196</td>\n",
       "      <td>1</td>\n",
       "      <td>1</td>\n",
       "      <td>Soda</td>\n",
       "      <td>...</td>\n",
       "      <td>Non-frequent customer</td>\n",
       "      <td>Female</td>\n",
       "      <td>Alabama</td>\n",
       "      <td>31</td>\n",
       "      <td>2/17/2019</td>\n",
       "      <td>3</td>\n",
       "      <td>married</td>\n",
       "      <td>40423</td>\n",
       "      <td>South</td>\n",
       "      <td>1.0</td>\n",
       "    </tr>\n",
       "    <tr>\n",
       "      <th>2</th>\n",
       "      <td>473747</td>\n",
       "      <td>1</td>\n",
       "      <td>3</td>\n",
       "      <td>3</td>\n",
       "      <td>12</td>\n",
       "      <td>21.0</td>\n",
       "      <td>196</td>\n",
       "      <td>1</td>\n",
       "      <td>1</td>\n",
       "      <td>Soda</td>\n",
       "      <td>...</td>\n",
       "      <td>Non-frequent customer</td>\n",
       "      <td>Female</td>\n",
       "      <td>Alabama</td>\n",
       "      <td>31</td>\n",
       "      <td>2/17/2019</td>\n",
       "      <td>3</td>\n",
       "      <td>married</td>\n",
       "      <td>40423</td>\n",
       "      <td>South</td>\n",
       "      <td>1.0</td>\n",
       "    </tr>\n",
       "    <tr>\n",
       "      <th>3</th>\n",
       "      <td>2254736</td>\n",
       "      <td>1</td>\n",
       "      <td>4</td>\n",
       "      <td>4</td>\n",
       "      <td>7</td>\n",
       "      <td>29.0</td>\n",
       "      <td>196</td>\n",
       "      <td>1</td>\n",
       "      <td>1</td>\n",
       "      <td>Soda</td>\n",
       "      <td>...</td>\n",
       "      <td>Non-frequent customer</td>\n",
       "      <td>Female</td>\n",
       "      <td>Alabama</td>\n",
       "      <td>31</td>\n",
       "      <td>2/17/2019</td>\n",
       "      <td>3</td>\n",
       "      <td>married</td>\n",
       "      <td>40423</td>\n",
       "      <td>South</td>\n",
       "      <td>1.0</td>\n",
       "    </tr>\n",
       "    <tr>\n",
       "      <th>4</th>\n",
       "      <td>431534</td>\n",
       "      <td>1</td>\n",
       "      <td>5</td>\n",
       "      <td>4</td>\n",
       "      <td>15</td>\n",
       "      <td>28.0</td>\n",
       "      <td>196</td>\n",
       "      <td>1</td>\n",
       "      <td>1</td>\n",
       "      <td>Soda</td>\n",
       "      <td>...</td>\n",
       "      <td>Non-frequent customer</td>\n",
       "      <td>Female</td>\n",
       "      <td>Alabama</td>\n",
       "      <td>31</td>\n",
       "      <td>2/17/2019</td>\n",
       "      <td>3</td>\n",
       "      <td>married</td>\n",
       "      <td>40423</td>\n",
       "      <td>South</td>\n",
       "      <td>1.0</td>\n",
       "    </tr>\n",
       "  </tbody>\n",
       "</table>\n",
       "<p>5 rows × 33 columns</p>\n",
       "</div>"
      ],
      "text/plain": [
       "   order_id user_id  order_number  order_dow  order_hour_of_day  \\\n",
       "0   2539329       1             1          2                  8   \n",
       "1   2398795       1             2          3                  7   \n",
       "2    473747       1             3          3                 12   \n",
       "3   2254736       1             4          4                  7   \n",
       "4    431534       1             5          4                 15   \n",
       "\n",
       "   days_since_prior_order  product_id  add_to_cart_order  reordered  \\\n",
       "0                   999.0         196                  1          0   \n",
       "1                    15.0         196                  1          1   \n",
       "2                    21.0         196                  1          1   \n",
       "3                    29.0         196                  1          1   \n",
       "4                    28.0         196                  1          1   \n",
       "\n",
       "  product_name  ...         frequency_flag  gender    state age date_joined  \\\n",
       "0         Soda  ...  Non-frequent customer  Female  Alabama  31   2/17/2019   \n",
       "1         Soda  ...  Non-frequent customer  Female  Alabama  31   2/17/2019   \n",
       "2         Soda  ...  Non-frequent customer  Female  Alabama  31   2/17/2019   \n",
       "3         Soda  ...  Non-frequent customer  Female  Alabama  31   2/17/2019   \n",
       "4         Soda  ...  Non-frequent customer  Female  Alabama  31   2/17/2019   \n",
       "\n",
       "  no_of_dependants marital_status income  region activity  \n",
       "0                3        married  40423   South      1.0  \n",
       "1                3        married  40423   South      1.0  \n",
       "2                3        married  40423   South      1.0  \n",
       "3                3        married  40423   South      1.0  \n",
       "4                3        married  40423   South      1.0  \n",
       "\n",
       "[5 rows x 33 columns]"
      ]
     },
     "execution_count": 23,
     "metadata": {},
     "output_type": "execute_result"
    }
   ],
   "source": [
    "# Checking active dataframe\n",
    "df_active.head()"
   ]
  },
  {
   "cell_type": "code",
   "execution_count": 24,
   "id": "cdf96427",
   "metadata": {},
   "outputs": [
    {
     "data": {
      "text/plain": [
       "(30171424, 33)"
      ]
     },
     "execution_count": 24,
     "metadata": {},
     "output_type": "execute_result"
    }
   ],
   "source": [
    "df_active.shape"
   ]
  },
  {
   "cell_type": "code",
   "execution_count": 25,
   "id": "a5697c6a",
   "metadata": {},
   "outputs": [],
   "source": [
    "# Deleting original dataframe to reduce memory usage\n",
    "del df"
   ]
  },
  {
   "cell_type": "markdown",
   "id": "b019c78e",
   "metadata": {},
   "source": [
    " # 05 Create a profiling variable based on age, income, number of dependents and certain goods in the “department_id” column and create appropriate visualisation to show the distribution of profiles with aggregate the max, mean, and min variables on a customer-profile level for usage frequency and expenditure\n"
   ]
  },
  {
   "cell_type": "markdown",
   "id": "a4ba3e59",
   "metadata": {},
   "source": [
    "### Age Profile"
   ]
  },
  {
   "cell_type": "code",
   "execution_count": 26,
   "id": "a92f744f",
   "metadata": {},
   "outputs": [],
   "source": [
    "# Creating age flag \n",
    "df_active.loc[df_active['age'] <= 25, 'age_group'] = 'Young adult'\n",
    "df_active.loc[(df_active['age'] > 25) & (df_active['age'] < 65), 'age_group'] = 'Adult'\n",
    "df_active.loc[df_active['age'] >= 65, 'age_group'] = 'Senior'"
   ]
  },
  {
   "cell_type": "code",
   "execution_count": 27,
   "id": "40577f5a",
   "metadata": {},
   "outputs": [
    {
     "data": {
      "text/plain": [
       "Adult          18417604\n",
       "Senior          7989725\n",
       "Young adult     3764095\n",
       "Name: age_group, dtype: int64"
      ]
     },
     "execution_count": 27,
     "metadata": {},
     "output_type": "execute_result"
    }
   ],
   "source": [
    "# Checking new age_group column\n",
    "df_active['age_group'].value_counts(dropna = False)"
   ]
  },
  {
   "cell_type": "code",
   "execution_count": 28,
   "id": "f196d3fe",
   "metadata": {},
   "outputs": [
    {
     "data": {
      "text/html": [
       "<div>\n",
       "<style scoped>\n",
       "    .dataframe tbody tr th:only-of-type {\n",
       "        vertical-align: middle;\n",
       "    }\n",
       "\n",
       "    .dataframe tbody tr th {\n",
       "        vertical-align: top;\n",
       "    }\n",
       "\n",
       "    .dataframe thead tr th {\n",
       "        text-align: left;\n",
       "    }\n",
       "\n",
       "    .dataframe thead tr:last-of-type th {\n",
       "        text-align: right;\n",
       "    }\n",
       "</style>\n",
       "<table border=\"1\" class=\"dataframe\">\n",
       "  <thead>\n",
       "    <tr>\n",
       "      <th></th>\n",
       "      <th colspan=\"3\" halign=\"left\">median_days_since_prior_order</th>\n",
       "    </tr>\n",
       "    <tr>\n",
       "      <th></th>\n",
       "      <th>mean</th>\n",
       "      <th>min</th>\n",
       "      <th>max</th>\n",
       "    </tr>\n",
       "    <tr>\n",
       "      <th>age_group</th>\n",
       "      <th></th>\n",
       "      <th></th>\n",
       "      <th></th>\n",
       "    </tr>\n",
       "  </thead>\n",
       "  <tbody>\n",
       "    <tr>\n",
       "      <th>Adult</th>\n",
       "      <td>10.372057</td>\n",
       "      <td>0.0</td>\n",
       "      <td>999.0</td>\n",
       "    </tr>\n",
       "    <tr>\n",
       "      <th>Senior</th>\n",
       "      <td>10.320178</td>\n",
       "      <td>0.0</td>\n",
       "      <td>999.0</td>\n",
       "    </tr>\n",
       "    <tr>\n",
       "      <th>Young adult</th>\n",
       "      <td>10.319003</td>\n",
       "      <td>0.0</td>\n",
       "      <td>999.0</td>\n",
       "    </tr>\n",
       "  </tbody>\n",
       "</table>\n",
       "</div>"
      ],
      "text/plain": [
       "            median_days_since_prior_order            \n",
       "                                     mean  min    max\n",
       "age_group                                            \n",
       "Adult                           10.372057  0.0  999.0\n",
       "Senior                          10.320178  0.0  999.0\n",
       "Young adult                     10.319003  0.0  999.0"
      ]
     },
     "execution_count": 28,
     "metadata": {},
     "output_type": "execute_result"
    }
   ],
   "source": [
    "# Aggregating for age group usage frequency\n",
    "df_active.groupby('age_group').agg({'median_days_since_prior_order':['mean', 'min', 'max']})"
   ]
  },
  {
   "cell_type": "code",
   "execution_count": 29,
   "id": "04bc1e6a",
   "metadata": {},
   "outputs": [
    {
     "data": {
      "text/html": [
       "<div>\n",
       "<style scoped>\n",
       "    .dataframe tbody tr th:only-of-type {\n",
       "        vertical-align: middle;\n",
       "    }\n",
       "\n",
       "    .dataframe tbody tr th {\n",
       "        vertical-align: top;\n",
       "    }\n",
       "\n",
       "    .dataframe thead tr th {\n",
       "        text-align: left;\n",
       "    }\n",
       "\n",
       "    .dataframe thead tr:last-of-type th {\n",
       "        text-align: right;\n",
       "    }\n",
       "</style>\n",
       "<table border=\"1\" class=\"dataframe\">\n",
       "  <thead>\n",
       "    <tr>\n",
       "      <th></th>\n",
       "      <th colspan=\"3\" halign=\"left\">prices</th>\n",
       "    </tr>\n",
       "    <tr>\n",
       "      <th></th>\n",
       "      <th>mean</th>\n",
       "      <th>min</th>\n",
       "      <th>max</th>\n",
       "    </tr>\n",
       "    <tr>\n",
       "      <th>age_group</th>\n",
       "      <th></th>\n",
       "      <th></th>\n",
       "      <th></th>\n",
       "    </tr>\n",
       "  </thead>\n",
       "  <tbody>\n",
       "    <tr>\n",
       "      <th>Adult</th>\n",
       "      <td>11.882920</td>\n",
       "      <td>1.0</td>\n",
       "      <td>99999.0</td>\n",
       "    </tr>\n",
       "    <tr>\n",
       "      <th>Senior</th>\n",
       "      <td>11.683091</td>\n",
       "      <td>1.0</td>\n",
       "      <td>99999.0</td>\n",
       "    </tr>\n",
       "    <tr>\n",
       "      <th>Young adult</th>\n",
       "      <td>12.107390</td>\n",
       "      <td>1.0</td>\n",
       "      <td>99999.0</td>\n",
       "    </tr>\n",
       "  </tbody>\n",
       "</table>\n",
       "</div>"
      ],
      "text/plain": [
       "                prices              \n",
       "                  mean  min      max\n",
       "age_group                           \n",
       "Adult        11.882920  1.0  99999.0\n",
       "Senior       11.683091  1.0  99999.0\n",
       "Young adult  12.107390  1.0  99999.0"
      ]
     },
     "execution_count": 29,
     "metadata": {},
     "output_type": "execute_result"
    }
   ],
   "source": [
    "#Aggregating for age group expenditure\n",
    "df_active.groupby('age_group').agg({'prices': ['mean', 'min', 'max']})"
   ]
  },
  {
   "cell_type": "code",
   "execution_count": 32,
   "id": "8a87f7e4",
   "metadata": {},
   "outputs": [
    {
     "data": {
      "image/png": "[encoded data removed]",
      "text/plain": [
       "<Figure size 640x480 with 1 Axes>"
      ]
     },
     "metadata": {},
     "output_type": "display_data"
    }
   ],
   "source": [
    "# Age frequency visualisation\n",
    "bar_age = df_active['age_group'].value_counts().plot.bar(color = ['orange', 'yellow', 'red'])"
   ]
  },
  {
   "cell_type": "code",
   "execution_count": 33,
   "id": "82318924",
   "metadata": {},
   "outputs": [],
   "source": [
    "# Exporting age bar chart\n",
    "bar_age.figure.savefig(os.path.join(path, '04 Analysis','Visualisations', 'bar_agegroup.png'))"
   ]
  },
  {
   "cell_type": "markdown",
   "id": "edd4e8ce",
   "metadata": {},
   "source": [
    "### Income Profile"
   ]
  },
  {
   "cell_type": "code",
   "execution_count": 36,
   "id": "512a50b3",
   "metadata": {},
   "outputs": [],
   "source": [
    "# Creating income flags\n",
    "df_active.loc[df_active['income'] < 40000, 'income_group'] = 'Low income'\n",
    "df_active.loc[(df_active['income'] >= 40000) & (df_active['income'] < 150000), 'income_group'] = 'Middle income'\n",
    "df_active.loc[df_active['income'] > 150000, 'income_group'] = 'High income'"
   ]
  },
  {
   "cell_type": "code",
   "execution_count": 37,
   "id": "3573bb7b",
   "metadata": {},
   "outputs": [
    {
     "data": {
      "text/plain": [
       "Middle income    24813113\n",
       "High income       3801883\n",
       "Low income        1555737\n",
       "Name: income_group, dtype: int64"
      ]
     },
     "execution_count": 37,
     "metadata": {},
     "output_type": "execute_result"
    }
   ],
   "source": [
    "# Checking income group column\n",
    "df_active['income_group'].value_counts()"
   ]
  },
  {
   "cell_type": "code",
   "execution_count": 38,
   "id": "f02c86e1",
   "metadata": {},
   "outputs": [
    {
     "data": {
      "text/html": [
       "<div>\n",
       "<style scoped>\n",
       "    .dataframe tbody tr th:only-of-type {\n",
       "        vertical-align: middle;\n",
       "    }\n",
       "\n",
       "    .dataframe tbody tr th {\n",
       "        vertical-align: top;\n",
       "    }\n",
       "\n",
       "    .dataframe thead tr th {\n",
       "        text-align: left;\n",
       "    }\n",
       "\n",
       "    .dataframe thead tr:last-of-type th {\n",
       "        text-align: right;\n",
       "    }\n",
       "</style>\n",
       "<table border=\"1\" class=\"dataframe\">\n",
       "  <thead>\n",
       "    <tr>\n",
       "      <th></th>\n",
       "      <th colspan=\"3\" halign=\"left\">median_days_since_prior_order</th>\n",
       "    </tr>\n",
       "    <tr>\n",
       "      <th></th>\n",
       "      <th>mean</th>\n",
       "      <th>min</th>\n",
       "      <th>max</th>\n",
       "    </tr>\n",
       "    <tr>\n",
       "      <th>income_group</th>\n",
       "      <th></th>\n",
       "      <th></th>\n",
       "      <th></th>\n",
       "    </tr>\n",
       "  </thead>\n",
       "  <tbody>\n",
       "    <tr>\n",
       "      <th>High income</th>\n",
       "      <td>10.238588</td>\n",
       "      <td>0.0</td>\n",
       "      <td>999.0</td>\n",
       "    </tr>\n",
       "    <tr>\n",
       "      <th>Low income</th>\n",
       "      <td>11.039354</td>\n",
       "      <td>0.0</td>\n",
       "      <td>999.0</td>\n",
       "    </tr>\n",
       "    <tr>\n",
       "      <th>Middle income</th>\n",
       "      <td>10.325944</td>\n",
       "      <td>0.0</td>\n",
       "      <td>999.0</td>\n",
       "    </tr>\n",
       "  </tbody>\n",
       "</table>\n",
       "</div>"
      ],
      "text/plain": [
       "              median_days_since_prior_order            \n",
       "                                       mean  min    max\n",
       "income_group                                           \n",
       "High income                       10.238588  0.0  999.0\n",
       "Low income                        11.039354  0.0  999.0\n",
       "Middle income                     10.325944  0.0  999.0"
      ]
     },
     "execution_count": 38,
     "metadata": {},
     "output_type": "execute_result"
    }
   ],
   "source": [
    "# Aggregate for income usage frequency\n",
    "df_active.groupby('income_group').agg({'median_days_since_prior_order':['mean', 'min', 'max']})"
   ]
  },
  {
   "cell_type": "code",
   "execution_count": 39,
   "id": "8aeaa4c5",
   "metadata": {},
   "outputs": [
    {
     "data": {
      "text/html": [
       "<div>\n",
       "<style scoped>\n",
       "    .dataframe tbody tr th:only-of-type {\n",
       "        vertical-align: middle;\n",
       "    }\n",
       "\n",
       "    .dataframe tbody tr th {\n",
       "        vertical-align: top;\n",
       "    }\n",
       "\n",
       "    .dataframe thead tr th {\n",
       "        text-align: left;\n",
       "    }\n",
       "\n",
       "    .dataframe thead tr:last-of-type th {\n",
       "        text-align: right;\n",
       "    }\n",
       "</style>\n",
       "<table border=\"1\" class=\"dataframe\">\n",
       "  <thead>\n",
       "    <tr>\n",
       "      <th></th>\n",
       "      <th colspan=\"3\" halign=\"left\">prices</th>\n",
       "    </tr>\n",
       "    <tr>\n",
       "      <th></th>\n",
       "      <th>mean</th>\n",
       "      <th>min</th>\n",
       "      <th>max</th>\n",
       "    </tr>\n",
       "    <tr>\n",
       "      <th>income_group</th>\n",
       "      <th></th>\n",
       "      <th></th>\n",
       "      <th></th>\n",
       "    </tr>\n",
       "  </thead>\n",
       "  <tbody>\n",
       "    <tr>\n",
       "      <th>High income</th>\n",
       "      <td>32.237740</td>\n",
       "      <td>1.0</td>\n",
       "      <td>99999.0</td>\n",
       "    </tr>\n",
       "    <tr>\n",
       "      <th>Low income</th>\n",
       "      <td>6.504810</td>\n",
       "      <td>1.0</td>\n",
       "      <td>25.0</td>\n",
       "    </tr>\n",
       "    <tr>\n",
       "      <th>Middle income</th>\n",
       "      <td>9.071169</td>\n",
       "      <td>1.0</td>\n",
       "      <td>99999.0</td>\n",
       "    </tr>\n",
       "  </tbody>\n",
       "</table>\n",
       "</div>"
      ],
      "text/plain": [
       "                  prices              \n",
       "                    mean  min      max\n",
       "income_group                          \n",
       "High income    32.237740  1.0  99999.0\n",
       "Low income      6.504810  1.0     25.0\n",
       "Middle income   9.071169  1.0  99999.0"
      ]
     },
     "execution_count": 39,
     "metadata": {},
     "output_type": "execute_result"
    }
   ],
   "source": [
    "# Aggregate for income group expenditure\n",
    "df_active.groupby('income_group').agg({'prices':['mean', 'min', 'max']})"
   ]
  },
  {
   "cell_type": "code",
   "execution_count": 40,
   "id": "190135fd",
   "metadata": {},
   "outputs": [
    {
     "data": {
      "image/png": "[encoded data removed]",
      "text/plain": [
       "<Figure size 640x480 with 1 Axes>"
      ]
     },
     "metadata": {},
     "output_type": "display_data"
    }
   ],
   "source": [
    "# Income group visualisation\n",
    "bar_income = df_active['income_group'].sort_values().value_counts().plot.bar()"
   ]
  },
  {
   "cell_type": "code",
   "execution_count": 41,
   "id": "2d154bd6",
   "metadata": {},
   "outputs": [],
   "source": [
    "# Export income bar chart\n",
    "bar_income.figure.savefig(os.path.join(path, '04 Analysis','Visualisations', 'bar_incomegroup.png'))"
   ]
  },
  {
   "cell_type": "markdown",
   "id": "d79f822e",
   "metadata": {},
   "source": [
    "### Number of Dependents Profile"
   ]
  },
  {
   "cell_type": "code",
   "execution_count": 43,
   "id": "8fbe1618",
   "metadata": {},
   "outputs": [],
   "source": [
    "#Creating dependents flag\n",
    "df_active.loc[df_active['no_of_dependants']>0, 'dependent_group']='has dependents'\n",
    "df_active.loc[df_active['no_of_dependants']==0,'dependent_group']='no dependents'"
   ]
  },
  {
   "cell_type": "code",
   "execution_count": 44,
   "id": "561ab9c4",
   "metadata": {},
   "outputs": [
    {
     "data": {
      "text/plain": [
       "has dependents    22632211\n",
       "no dependents      7539213\n",
       "Name: dependent_group, dtype: int64"
      ]
     },
     "execution_count": 44,
     "metadata": {},
     "output_type": "execute_result"
    }
   ],
   "source": [
    "# Check dependents group column\n",
    "df_active['dependent_group'].value_counts()"
   ]
  },
  {
   "cell_type": "code",
   "execution_count": 45,
   "id": "393a75d6",
   "metadata": {},
   "outputs": [
    {
     "data": {
      "text/html": [
       "<div>\n",
       "<style scoped>\n",
       "    .dataframe tbody tr th:only-of-type {\n",
       "        vertical-align: middle;\n",
       "    }\n",
       "\n",
       "    .dataframe tbody tr th {\n",
       "        vertical-align: top;\n",
       "    }\n",
       "\n",
       "    .dataframe thead tr th {\n",
       "        text-align: left;\n",
       "    }\n",
       "\n",
       "    .dataframe thead tr:last-of-type th {\n",
       "        text-align: right;\n",
       "    }\n",
       "</style>\n",
       "<table border=\"1\" class=\"dataframe\">\n",
       "  <thead>\n",
       "    <tr>\n",
       "      <th></th>\n",
       "      <th colspan=\"3\" halign=\"left\">median_days_since_prior_order</th>\n",
       "    </tr>\n",
       "    <tr>\n",
       "      <th></th>\n",
       "      <th>mean</th>\n",
       "      <th>min</th>\n",
       "      <th>max</th>\n",
       "    </tr>\n",
       "    <tr>\n",
       "      <th>dependent_group</th>\n",
       "      <th></th>\n",
       "      <th></th>\n",
       "      <th></th>\n",
       "    </tr>\n",
       "  </thead>\n",
       "  <tbody>\n",
       "    <tr>\n",
       "      <th>has dependents</th>\n",
       "      <td>10.358189</td>\n",
       "      <td>0.0</td>\n",
       "      <td>999.0</td>\n",
       "    </tr>\n",
       "    <tr>\n",
       "      <th>no dependents</th>\n",
       "      <td>10.332220</td>\n",
       "      <td>0.0</td>\n",
       "      <td>999.0</td>\n",
       "    </tr>\n",
       "  </tbody>\n",
       "</table>\n",
       "</div>"
      ],
      "text/plain": [
       "                median_days_since_prior_order            \n",
       "                                         mean  min    max\n",
       "dependent_group                                          \n",
       "has dependents                      10.358189  0.0  999.0\n",
       "no dependents                       10.332220  0.0  999.0"
      ]
     },
     "execution_count": 45,
     "metadata": {},
     "output_type": "execute_result"
    }
   ],
   "source": [
    "# Aggregate for dependents group usuage frequency\n",
    "df_active.groupby('dependent_group').agg({'median_days_since_prior_order':['mean', 'min', 'max']})"
   ]
  },
  {
   "cell_type": "code",
   "execution_count": 46,
   "id": "cfb34ad7",
   "metadata": {},
   "outputs": [
    {
     "data": {
      "text/html": [
       "<div>\n",
       "<style scoped>\n",
       "    .dataframe tbody tr th:only-of-type {\n",
       "        vertical-align: middle;\n",
       "    }\n",
       "\n",
       "    .dataframe tbody tr th {\n",
       "        vertical-align: top;\n",
       "    }\n",
       "\n",
       "    .dataframe thead tr th {\n",
       "        text-align: left;\n",
       "    }\n",
       "\n",
       "    .dataframe thead tr:last-of-type th {\n",
       "        text-align: right;\n",
       "    }\n",
       "</style>\n",
       "<table border=\"1\" class=\"dataframe\">\n",
       "  <thead>\n",
       "    <tr>\n",
       "      <th></th>\n",
       "      <th colspan=\"3\" halign=\"left\">prices</th>\n",
       "    </tr>\n",
       "    <tr>\n",
       "      <th></th>\n",
       "      <th>mean</th>\n",
       "      <th>min</th>\n",
       "      <th>max</th>\n",
       "    </tr>\n",
       "    <tr>\n",
       "      <th>dependent_group</th>\n",
       "      <th></th>\n",
       "      <th></th>\n",
       "      <th></th>\n",
       "    </tr>\n",
       "  </thead>\n",
       "  <tbody>\n",
       "    <tr>\n",
       "      <th>has dependents</th>\n",
       "      <td>11.783410</td>\n",
       "      <td>1.0</td>\n",
       "      <td>99999.0</td>\n",
       "    </tr>\n",
       "    <tr>\n",
       "      <th>no dependents</th>\n",
       "      <td>12.081944</td>\n",
       "      <td>1.0</td>\n",
       "      <td>99999.0</td>\n",
       "    </tr>\n",
       "  </tbody>\n",
       "</table>\n",
       "</div>"
      ],
      "text/plain": [
       "                    prices              \n",
       "                      mean  min      max\n",
       "dependent_group                         \n",
       "has dependents   11.783410  1.0  99999.0\n",
       "no dependents    12.081944  1.0  99999.0"
      ]
     },
     "execution_count": 46,
     "metadata": {},
     "output_type": "execute_result"
    }
   ],
   "source": [
    "# Aggregate for dependent group expenditure\n",
    "df_active.groupby('dependent_group').agg({'prices':['mean', 'min', 'max']})"
   ]
  },
  {
   "cell_type": "code",
   "execution_count": 47,
   "id": "fb2e4e12",
   "metadata": {},
   "outputs": [
    {
     "data": {
      "image/png": "[encoded data removed]",
      "text/plain": [
       "<Figure size 640x480 with 1 Axes>"
      ]
     },
     "metadata": {},
     "output_type": "display_data"
    }
   ],
   "source": [
    "# Creating horizontal bar chart for dependent groups\n",
    "bar_depend = df_active['dependent_group'].value_counts().plot.barh(color=['purple','green'])"
   ]
  },
  {
   "cell_type": "markdown",
   "id": "8d8ff8be",
   "metadata": {},
   "source": [
    "## Creating Department Profiles"
   ]
  },
  {
   "cell_type": "code",
   "execution_count": 48,
   "id": "533d121b",
   "metadata": {},
   "outputs": [],
   "source": [
    "# Importing departments data set\n",
    "df_dept = pd.read_csv(os.path.join(path,'02 Data','Prepared Data','departments_wrangled.csv'))"
   ]
  },
  {
   "cell_type": "code",
   "execution_count": 49,
   "id": "e891e553",
   "metadata": {},
   "outputs": [
    {
     "data": {
      "text/html": [
       "<div>\n",
       "<style scoped>\n",
       "    .dataframe tbody tr th:only-of-type {\n",
       "        vertical-align: middle;\n",
       "    }\n",
       "\n",
       "    .dataframe tbody tr th {\n",
       "        vertical-align: top;\n",
       "    }\n",
       "\n",
       "    .dataframe thead th {\n",
       "        text-align: right;\n",
       "    }\n",
       "</style>\n",
       "<table border=\"1\" class=\"dataframe\">\n",
       "  <thead>\n",
       "    <tr style=\"text-align: right;\">\n",
       "      <th></th>\n",
       "      <th>Unnamed: 0</th>\n",
       "      <th>department</th>\n",
       "    </tr>\n",
       "  </thead>\n",
       "  <tbody>\n",
       "    <tr>\n",
       "      <th>0</th>\n",
       "      <td>1</td>\n",
       "      <td>frozen</td>\n",
       "    </tr>\n",
       "    <tr>\n",
       "      <th>1</th>\n",
       "      <td>2</td>\n",
       "      <td>other</td>\n",
       "    </tr>\n",
       "    <tr>\n",
       "      <th>2</th>\n",
       "      <td>3</td>\n",
       "      <td>bakery</td>\n",
       "    </tr>\n",
       "    <tr>\n",
       "      <th>3</th>\n",
       "      <td>4</td>\n",
       "      <td>produce</td>\n",
       "    </tr>\n",
       "    <tr>\n",
       "      <th>4</th>\n",
       "      <td>5</td>\n",
       "      <td>alcohol</td>\n",
       "    </tr>\n",
       "    <tr>\n",
       "      <th>5</th>\n",
       "      <td>6</td>\n",
       "      <td>international</td>\n",
       "    </tr>\n",
       "    <tr>\n",
       "      <th>6</th>\n",
       "      <td>7</td>\n",
       "      <td>beverages</td>\n",
       "    </tr>\n",
       "    <tr>\n",
       "      <th>7</th>\n",
       "      <td>8</td>\n",
       "      <td>pets</td>\n",
       "    </tr>\n",
       "    <tr>\n",
       "      <th>8</th>\n",
       "      <td>9</td>\n",
       "      <td>dry goods pasta</td>\n",
       "    </tr>\n",
       "    <tr>\n",
       "      <th>9</th>\n",
       "      <td>10</td>\n",
       "      <td>bulk</td>\n",
       "    </tr>\n",
       "    <tr>\n",
       "      <th>10</th>\n",
       "      <td>11</td>\n",
       "      <td>personal care</td>\n",
       "    </tr>\n",
       "    <tr>\n",
       "      <th>11</th>\n",
       "      <td>12</td>\n",
       "      <td>meat seafood</td>\n",
       "    </tr>\n",
       "    <tr>\n",
       "      <th>12</th>\n",
       "      <td>13</td>\n",
       "      <td>pantry</td>\n",
       "    </tr>\n",
       "    <tr>\n",
       "      <th>13</th>\n",
       "      <td>14</td>\n",
       "      <td>breakfast</td>\n",
       "    </tr>\n",
       "    <tr>\n",
       "      <th>14</th>\n",
       "      <td>15</td>\n",
       "      <td>canned goods</td>\n",
       "    </tr>\n",
       "    <tr>\n",
       "      <th>15</th>\n",
       "      <td>16</td>\n",
       "      <td>dairy eggs</td>\n",
       "    </tr>\n",
       "    <tr>\n",
       "      <th>16</th>\n",
       "      <td>17</td>\n",
       "      <td>household</td>\n",
       "    </tr>\n",
       "    <tr>\n",
       "      <th>17</th>\n",
       "      <td>18</td>\n",
       "      <td>babies</td>\n",
       "    </tr>\n",
       "    <tr>\n",
       "      <th>18</th>\n",
       "      <td>19</td>\n",
       "      <td>snacks</td>\n",
       "    </tr>\n",
       "    <tr>\n",
       "      <th>19</th>\n",
       "      <td>20</td>\n",
       "      <td>deli</td>\n",
       "    </tr>\n",
       "    <tr>\n",
       "      <th>20</th>\n",
       "      <td>21</td>\n",
       "      <td>missing</td>\n",
       "    </tr>\n",
       "  </tbody>\n",
       "</table>\n",
       "</div>"
      ],
      "text/plain": [
       "    Unnamed: 0       department\n",
       "0            1           frozen\n",
       "1            2            other\n",
       "2            3           bakery\n",
       "3            4          produce\n",
       "4            5          alcohol\n",
       "5            6    international\n",
       "6            7        beverages\n",
       "7            8             pets\n",
       "8            9  dry goods pasta\n",
       "9           10             bulk\n",
       "10          11    personal care\n",
       "11          12     meat seafood\n",
       "12          13           pantry\n",
       "13          14        breakfast\n",
       "14          15     canned goods\n",
       "15          16       dairy eggs\n",
       "16          17        household\n",
       "17          18           babies\n",
       "18          19           snacks\n",
       "19          20             deli\n",
       "20          21          missing"
      ]
     },
     "execution_count": 49,
     "metadata": {},
     "output_type": "execute_result"
    }
   ],
   "source": [
    "# Check departments dataframe\n",
    "df_dept"
   ]
  },
  {
   "cell_type": "code",
   "execution_count": 50,
   "id": "43bf0403",
   "metadata": {},
   "outputs": [],
   "source": [
    "# Renaming unnamed column to department_id\n",
    "df_dept.rename(columns = {'Unnamed: 0' : 'department_id'}, inplace = True)"
   ]
  },
  {
   "cell_type": "code",
   "execution_count": 51,
   "id": "e5761af9",
   "metadata": {},
   "outputs": [
    {
     "data": {
      "text/html": [
       "<div>\n",
       "<style scoped>\n",
       "    .dataframe tbody tr th:only-of-type {\n",
       "        vertical-align: middle;\n",
       "    }\n",
       "\n",
       "    .dataframe tbody tr th {\n",
       "        vertical-align: top;\n",
       "    }\n",
       "\n",
       "    .dataframe thead th {\n",
       "        text-align: right;\n",
       "    }\n",
       "</style>\n",
       "<table border=\"1\" class=\"dataframe\">\n",
       "  <thead>\n",
       "    <tr style=\"text-align: right;\">\n",
       "      <th></th>\n",
       "      <th>department_id</th>\n",
       "      <th>department</th>\n",
       "    </tr>\n",
       "  </thead>\n",
       "  <tbody>\n",
       "    <tr>\n",
       "      <th>0</th>\n",
       "      <td>1</td>\n",
       "      <td>frozen</td>\n",
       "    </tr>\n",
       "    <tr>\n",
       "      <th>1</th>\n",
       "      <td>2</td>\n",
       "      <td>other</td>\n",
       "    </tr>\n",
       "    <tr>\n",
       "      <th>2</th>\n",
       "      <td>3</td>\n",
       "      <td>bakery</td>\n",
       "    </tr>\n",
       "    <tr>\n",
       "      <th>3</th>\n",
       "      <td>4</td>\n",
       "      <td>produce</td>\n",
       "    </tr>\n",
       "    <tr>\n",
       "      <th>4</th>\n",
       "      <td>5</td>\n",
       "      <td>alcohol</td>\n",
       "    </tr>\n",
       "  </tbody>\n",
       "</table>\n",
       "</div>"
      ],
      "text/plain": [
       "   department_id department\n",
       "0              1     frozen\n",
       "1              2      other\n",
       "2              3     bakery\n",
       "3              4    produce\n",
       "4              5    alcohol"
      ]
     },
     "execution_count": 51,
     "metadata": {},
     "output_type": "execute_result"
    }
   ],
   "source": [
    "df_dept.head()"
   ]
  },
  {
   "cell_type": "code",
   "execution_count": 52,
   "id": "566b0573",
   "metadata": {},
   "outputs": [],
   "source": [
    "# Turning department dataframe into data dictionary\n",
    "zipped=zip(df_dept['department_id'], df_dept['department'])\n",
    "data_dict=dict(zipped)"
   ]
  },
  {
   "cell_type": "code",
   "execution_count": 53,
   "id": "3538c8d8",
   "metadata": {},
   "outputs": [
    {
     "data": {
      "text/plain": [
       "{1: 'frozen',\n",
       " 2: 'other',\n",
       " 3: 'bakery',\n",
       " 4: 'produce',\n",
       " 5: 'alcohol',\n",
       " 6: 'international',\n",
       " 7: 'beverages',\n",
       " 8: 'pets',\n",
       " 9: 'dry goods pasta',\n",
       " 10: 'bulk',\n",
       " 11: 'personal care',\n",
       " 12: 'meat seafood',\n",
       " 13: 'pantry',\n",
       " 14: 'breakfast',\n",
       " 15: 'canned goods',\n",
       " 16: 'dairy eggs',\n",
       " 17: 'household',\n",
       " 18: 'babies',\n",
       " 19: 'snacks',\n",
       " 20: 'deli',\n",
       " 21: 'missing'}"
      ]
     },
     "execution_count": 53,
     "metadata": {},
     "output_type": "execute_result"
    }
   ],
   "source": [
    "data_dict"
   ]
  },
  {
   "cell_type": "code",
   "execution_count": 54,
   "id": "4de4854d",
   "metadata": {},
   "outputs": [],
   "source": [
    "#Mapping department names to department_id in dataframe\n",
    "df_active['department'] = df_active['department_id'].map(data_dict)"
   ]
  },
  {
   "cell_type": "code",
   "execution_count": 55,
   "id": "e00627db",
   "metadata": {},
   "outputs": [
    {
     "data": {
      "text/html": [
       "<div>\n",
       "<style scoped>\n",
       "    .dataframe tbody tr th:only-of-type {\n",
       "        vertical-align: middle;\n",
       "    }\n",
       "\n",
       "    .dataframe tbody tr th {\n",
       "        vertical-align: top;\n",
       "    }\n",
       "\n",
       "    .dataframe thead th {\n",
       "        text-align: right;\n",
       "    }\n",
       "</style>\n",
       "<table border=\"1\" class=\"dataframe\">\n",
       "  <thead>\n",
       "    <tr style=\"text-align: right;\">\n",
       "      <th></th>\n",
       "      <th>order_id</th>\n",
       "      <th>user_id</th>\n",
       "      <th>order_number</th>\n",
       "      <th>order_dow</th>\n",
       "      <th>order_hour_of_day</th>\n",
       "      <th>days_since_prior_order</th>\n",
       "      <th>product_id</th>\n",
       "      <th>add_to_cart_order</th>\n",
       "      <th>reordered</th>\n",
       "      <th>product_name</th>\n",
       "      <th>...</th>\n",
       "      <th>date_joined</th>\n",
       "      <th>no_of_dependants</th>\n",
       "      <th>marital_status</th>\n",
       "      <th>income</th>\n",
       "      <th>region</th>\n",
       "      <th>activity</th>\n",
       "      <th>age_group</th>\n",
       "      <th>income_group</th>\n",
       "      <th>dependent_group</th>\n",
       "      <th>department</th>\n",
       "    </tr>\n",
       "  </thead>\n",
       "  <tbody>\n",
       "    <tr>\n",
       "      <th>0</th>\n",
       "      <td>2539329</td>\n",
       "      <td>1</td>\n",
       "      <td>1</td>\n",
       "      <td>2</td>\n",
       "      <td>8</td>\n",
       "      <td>999.0</td>\n",
       "      <td>196</td>\n",
       "      <td>1</td>\n",
       "      <td>0</td>\n",
       "      <td>Soda</td>\n",
       "      <td>...</td>\n",
       "      <td>2/17/2019</td>\n",
       "      <td>3</td>\n",
       "      <td>married</td>\n",
       "      <td>40423</td>\n",
       "      <td>South</td>\n",
       "      <td>1.0</td>\n",
       "      <td>Adult</td>\n",
       "      <td>Middle income</td>\n",
       "      <td>has dependents</td>\n",
       "      <td>beverages</td>\n",
       "    </tr>\n",
       "    <tr>\n",
       "      <th>1</th>\n",
       "      <td>2398795</td>\n",
       "      <td>1</td>\n",
       "      <td>2</td>\n",
       "      <td>3</td>\n",
       "      <td>7</td>\n",
       "      <td>15.0</td>\n",
       "      <td>196</td>\n",
       "      <td>1</td>\n",
       "      <td>1</td>\n",
       "      <td>Soda</td>\n",
       "      <td>...</td>\n",
       "      <td>2/17/2019</td>\n",
       "      <td>3</td>\n",
       "      <td>married</td>\n",
       "      <td>40423</td>\n",
       "      <td>South</td>\n",
       "      <td>1.0</td>\n",
       "      <td>Adult</td>\n",
       "      <td>Middle income</td>\n",
       "      <td>has dependents</td>\n",
       "      <td>beverages</td>\n",
       "    </tr>\n",
       "    <tr>\n",
       "      <th>2</th>\n",
       "      <td>473747</td>\n",
       "      <td>1</td>\n",
       "      <td>3</td>\n",
       "      <td>3</td>\n",
       "      <td>12</td>\n",
       "      <td>21.0</td>\n",
       "      <td>196</td>\n",
       "      <td>1</td>\n",
       "      <td>1</td>\n",
       "      <td>Soda</td>\n",
       "      <td>...</td>\n",
       "      <td>2/17/2019</td>\n",
       "      <td>3</td>\n",
       "      <td>married</td>\n",
       "      <td>40423</td>\n",
       "      <td>South</td>\n",
       "      <td>1.0</td>\n",
       "      <td>Adult</td>\n",
       "      <td>Middle income</td>\n",
       "      <td>has dependents</td>\n",
       "      <td>beverages</td>\n",
       "    </tr>\n",
       "    <tr>\n",
       "      <th>3</th>\n",
       "      <td>2254736</td>\n",
       "      <td>1</td>\n",
       "      <td>4</td>\n",
       "      <td>4</td>\n",
       "      <td>7</td>\n",
       "      <td>29.0</td>\n",
       "      <td>196</td>\n",
       "      <td>1</td>\n",
       "      <td>1</td>\n",
       "      <td>Soda</td>\n",
       "      <td>...</td>\n",
       "      <td>2/17/2019</td>\n",
       "      <td>3</td>\n",
       "      <td>married</td>\n",
       "      <td>40423</td>\n",
       "      <td>South</td>\n",
       "      <td>1.0</td>\n",
       "      <td>Adult</td>\n",
       "      <td>Middle income</td>\n",
       "      <td>has dependents</td>\n",
       "      <td>beverages</td>\n",
       "    </tr>\n",
       "    <tr>\n",
       "      <th>4</th>\n",
       "      <td>431534</td>\n",
       "      <td>1</td>\n",
       "      <td>5</td>\n",
       "      <td>4</td>\n",
       "      <td>15</td>\n",
       "      <td>28.0</td>\n",
       "      <td>196</td>\n",
       "      <td>1</td>\n",
       "      <td>1</td>\n",
       "      <td>Soda</td>\n",
       "      <td>...</td>\n",
       "      <td>2/17/2019</td>\n",
       "      <td>3</td>\n",
       "      <td>married</td>\n",
       "      <td>40423</td>\n",
       "      <td>South</td>\n",
       "      <td>1.0</td>\n",
       "      <td>Adult</td>\n",
       "      <td>Middle income</td>\n",
       "      <td>has dependents</td>\n",
       "      <td>beverages</td>\n",
       "    </tr>\n",
       "  </tbody>\n",
       "</table>\n",
       "<p>5 rows × 37 columns</p>\n",
       "</div>"
      ],
      "text/plain": [
       "   order_id user_id  order_number  order_dow  order_hour_of_day  \\\n",
       "0   2539329       1             1          2                  8   \n",
       "1   2398795       1             2          3                  7   \n",
       "2    473747       1             3          3                 12   \n",
       "3   2254736       1             4          4                  7   \n",
       "4    431534       1             5          4                 15   \n",
       "\n",
       "   days_since_prior_order  product_id  add_to_cart_order  reordered  \\\n",
       "0                   999.0         196                  1          0   \n",
       "1                    15.0         196                  1          1   \n",
       "2                    21.0         196                  1          1   \n",
       "3                    29.0         196                  1          1   \n",
       "4                    28.0         196                  1          1   \n",
       "\n",
       "  product_name  ...  date_joined  no_of_dependants  marital_status income  \\\n",
       "0         Soda  ...    2/17/2019                 3         married  40423   \n",
       "1         Soda  ...    2/17/2019                 3         married  40423   \n",
       "2         Soda  ...    2/17/2019                 3         married  40423   \n",
       "3         Soda  ...    2/17/2019                 3         married  40423   \n",
       "4         Soda  ...    2/17/2019                 3         married  40423   \n",
       "\n",
       "  region activity age_group   income_group  dependent_group department  \n",
       "0  South      1.0     Adult  Middle income   has dependents  beverages  \n",
       "1  South      1.0     Adult  Middle income   has dependents  beverages  \n",
       "2  South      1.0     Adult  Middle income   has dependents  beverages  \n",
       "3  South      1.0     Adult  Middle income   has dependents  beverages  \n",
       "4  South      1.0     Adult  Middle income   has dependents  beverages  \n",
       "\n",
       "[5 rows x 37 columns]"
      ]
     },
     "execution_count": 55,
     "metadata": {},
     "output_type": "execute_result"
    }
   ],
   "source": [
    "# Checking dataframe for new department column\n",
    "df_active.head()"
   ]
  },
  {
   "cell_type": "markdown",
   "id": "1e676909",
   "metadata": {},
   "source": [
    "### We will create department profiles for the following departments; baby supplies, alcohol consumption and pet supplies."
   ]
  },
  {
   "cell_type": "markdown",
   "id": "8b9b7e53",
   "metadata": {},
   "source": [
    "### Baby Department Profile"
   ]
  },
  {
   "cell_type": "code",
   "execution_count": 56,
   "id": "7daba1b9",
   "metadata": {},
   "outputs": [],
   "source": [
    "# Creating baby department flag\n",
    "df_active['baby_status'] = [1 if x == 'babies' else 0 for x in df_active['department']]\n",
    "df_active['baby_status'] = df_active.groupby(['user_id'])['baby_status'].transform(np.max)"
   ]
  },
  {
   "cell_type": "code",
   "execution_count": 57,
   "id": "0ee8d179",
   "metadata": {},
   "outputs": [
    {
     "data": {
      "text/plain": [
       "0    20467796\n",
       "1     9703628\n",
       "Name: baby_status, dtype: int64"
      ]
     },
     "execution_count": 57,
     "metadata": {},
     "output_type": "execute_result"
    }
   ],
   "source": [
    "# Checking baby status column\n",
    "df_active['baby_status'].value_counts(dropna = False)"
   ]
  },
  {
   "cell_type": "code",
   "execution_count": 58,
   "id": "11c91868",
   "metadata": {},
   "outputs": [
    {
     "data": {
      "text/html": [
       "<div>\n",
       "<style scoped>\n",
       "    .dataframe tbody tr th:only-of-type {\n",
       "        vertical-align: middle;\n",
       "    }\n",
       "\n",
       "    .dataframe tbody tr th {\n",
       "        vertical-align: top;\n",
       "    }\n",
       "\n",
       "    .dataframe thead tr th {\n",
       "        text-align: left;\n",
       "    }\n",
       "\n",
       "    .dataframe thead tr:last-of-type th {\n",
       "        text-align: right;\n",
       "    }\n",
       "</style>\n",
       "<table border=\"1\" class=\"dataframe\">\n",
       "  <thead>\n",
       "    <tr>\n",
       "      <th></th>\n",
       "      <th colspan=\"3\" halign=\"left\">median_days_since_prior_order</th>\n",
       "    </tr>\n",
       "    <tr>\n",
       "      <th></th>\n",
       "      <th>mean</th>\n",
       "      <th>min</th>\n",
       "      <th>max</th>\n",
       "    </tr>\n",
       "    <tr>\n",
       "      <th>baby_status</th>\n",
       "      <th></th>\n",
       "      <th></th>\n",
       "      <th></th>\n",
       "    </tr>\n",
       "  </thead>\n",
       "  <tbody>\n",
       "    <tr>\n",
       "      <th>0</th>\n",
       "      <td>11.185426</td>\n",
       "      <td>0.0</td>\n",
       "      <td>999.0</td>\n",
       "    </tr>\n",
       "    <tr>\n",
       "      <th>1</th>\n",
       "      <td>8.593128</td>\n",
       "      <td>0.0</td>\n",
       "      <td>999.0</td>\n",
       "    </tr>\n",
       "  </tbody>\n",
       "</table>\n",
       "</div>"
      ],
      "text/plain": [
       "            median_days_since_prior_order            \n",
       "                                     mean  min    max\n",
       "baby_status                                          \n",
       "0                               11.185426  0.0  999.0\n",
       "1                                8.593128  0.0  999.0"
      ]
     },
     "execution_count": 58,
     "metadata": {},
     "output_type": "execute_result"
    }
   ],
   "source": [
    "# Aggregating for baby staus usage frequency\n",
    "df_active.groupby('baby_status').agg({'median_days_since_prior_order':['mean', 'min', 'max']})"
   ]
  },
  {
   "cell_type": "code",
   "execution_count": 59,
   "id": "ab2caafa",
   "metadata": {},
   "outputs": [
    {
     "data": {
      "text/html": [
       "<div>\n",
       "<style scoped>\n",
       "    .dataframe tbody tr th:only-of-type {\n",
       "        vertical-align: middle;\n",
       "    }\n",
       "\n",
       "    .dataframe tbody tr th {\n",
       "        vertical-align: top;\n",
       "    }\n",
       "\n",
       "    .dataframe thead tr th {\n",
       "        text-align: left;\n",
       "    }\n",
       "\n",
       "    .dataframe thead tr:last-of-type th {\n",
       "        text-align: right;\n",
       "    }\n",
       "</style>\n",
       "<table border=\"1\" class=\"dataframe\">\n",
       "  <thead>\n",
       "    <tr>\n",
       "      <th></th>\n",
       "      <th colspan=\"3\" halign=\"left\">prices</th>\n",
       "    </tr>\n",
       "    <tr>\n",
       "      <th></th>\n",
       "      <th>mean</th>\n",
       "      <th>min</th>\n",
       "      <th>max</th>\n",
       "    </tr>\n",
       "    <tr>\n",
       "      <th>baby_status</th>\n",
       "      <th></th>\n",
       "      <th></th>\n",
       "      <th></th>\n",
       "    </tr>\n",
       "  </thead>\n",
       "  <tbody>\n",
       "    <tr>\n",
       "      <th>0</th>\n",
       "      <td>12.395094</td>\n",
       "      <td>1.0</td>\n",
       "      <td>99999.0</td>\n",
       "    </tr>\n",
       "    <tr>\n",
       "      <th>1</th>\n",
       "      <td>10.725133</td>\n",
       "      <td>1.0</td>\n",
       "      <td>99999.0</td>\n",
       "    </tr>\n",
       "  </tbody>\n",
       "</table>\n",
       "</div>"
      ],
      "text/plain": [
       "                prices              \n",
       "                  mean  min      max\n",
       "baby_status                         \n",
       "0            12.395094  1.0  99999.0\n",
       "1            10.725133  1.0  99999.0"
      ]
     },
     "execution_count": 59,
     "metadata": {},
     "output_type": "execute_result"
    }
   ],
   "source": [
    "# Aggregate for baby status expenditure\n",
    "df_active.groupby('baby_status').agg({'prices':['mean', 'min', 'max']})"
   ]
  },
  {
   "cell_type": "code",
   "execution_count": 60,
   "id": "5d2d462d",
   "metadata": {},
   "outputs": [
    {
     "data": {
      "image/png": "[encoded data removed]",
      "text/plain": [
       "<Figure size 640x480 with 1 Axes>"
      ]
     },
     "metadata": {},
     "output_type": "display_data"
    }
   ],
   "source": [
    "# Baby status visualisation\n",
    "pie_baby = df_active['baby_status'].value_counts().plot.pie(labels=['No', 'Yes'], autopct=('%1.f%%'), colors=['blue','red'])"
   ]
  },
  {
   "cell_type": "code",
   "execution_count": 61,
   "id": "73ba709b",
   "metadata": {},
   "outputs": [],
   "source": [
    "# Exporting baby_status pie chart\n",
    "pie_baby.figure.savefig(os.path.join(path, '04 Analysis','Visualisations', 'pie_babystatus.png'))"
   ]
  },
  {
   "cell_type": "markdown",
   "id": "b025f770",
   "metadata": {},
   "source": [
    "### Pet Department Profile"
   ]
  },
  {
   "cell_type": "code",
   "execution_count": 62,
   "id": "bfcba8eb",
   "metadata": {},
   "outputs": [],
   "source": [
    "# Creating pet flag\n",
    "df_active['pet_status'] = [1 if x == 'pets' else 0 for x in df_active['department']]\n",
    "df_active['pet_status'] = df_active.groupby(['user_id'])['pet_status'].transform(np.max)"
   ]
  },
  {
   "cell_type": "code",
   "execution_count": 63,
   "id": "da743f7d",
   "metadata": {},
   "outputs": [
    {
     "data": {
      "text/plain": [
       "0    26771440\n",
       "1     3399984\n",
       "Name: pet_status, dtype: int64"
      ]
     },
     "execution_count": 63,
     "metadata": {},
     "output_type": "execute_result"
    }
   ],
   "source": [
    "# Checking pet status column\n",
    "df_active['pet_status'].value_counts(dropna = False)"
   ]
  },
  {
   "cell_type": "code",
   "execution_count": 65,
   "id": "234074ac",
   "metadata": {},
   "outputs": [
    {
     "data": {
      "text/html": [
       "<div>\n",
       "<style scoped>\n",
       "    .dataframe tbody tr th:only-of-type {\n",
       "        vertical-align: middle;\n",
       "    }\n",
       "\n",
       "    .dataframe tbody tr th {\n",
       "        vertical-align: top;\n",
       "    }\n",
       "\n",
       "    .dataframe thead tr th {\n",
       "        text-align: left;\n",
       "    }\n",
       "\n",
       "    .dataframe thead tr:last-of-type th {\n",
       "        text-align: right;\n",
       "    }\n",
       "</style>\n",
       "<table border=\"1\" class=\"dataframe\">\n",
       "  <thead>\n",
       "    <tr>\n",
       "      <th></th>\n",
       "      <th colspan=\"3\" halign=\"left\">median_days_since_prior_order</th>\n",
       "    </tr>\n",
       "    <tr>\n",
       "      <th></th>\n",
       "      <th>mean</th>\n",
       "      <th>min</th>\n",
       "      <th>max</th>\n",
       "    </tr>\n",
       "    <tr>\n",
       "      <th>pet_status</th>\n",
       "      <th></th>\n",
       "      <th></th>\n",
       "      <th></th>\n",
       "    </tr>\n",
       "  </thead>\n",
       "  <tbody>\n",
       "    <tr>\n",
       "      <th>0</th>\n",
       "      <td>10.448360</td>\n",
       "      <td>0.0</td>\n",
       "      <td>999.0</td>\n",
       "    </tr>\n",
       "    <tr>\n",
       "      <th>1</th>\n",
       "      <td>9.590603</td>\n",
       "      <td>0.0</td>\n",
       "      <td>999.0</td>\n",
       "    </tr>\n",
       "  </tbody>\n",
       "</table>\n",
       "</div>"
      ],
      "text/plain": [
       "           median_days_since_prior_order            \n",
       "                                    mean  min    max\n",
       "pet_status                                          \n",
       "0                              10.448360  0.0  999.0\n",
       "1                               9.590603  0.0  999.0"
      ]
     },
     "execution_count": 65,
     "metadata": {},
     "output_type": "execute_result"
    }
   ],
   "source": [
    "# Aggregating for pet status usage frequency\n",
    "df_active.groupby('pet_status').agg({'median_days_since_prior_order':['mean', 'min', 'max']})"
   ]
  },
  {
   "cell_type": "code",
   "execution_count": 67,
   "id": "8b24e36e",
   "metadata": {},
   "outputs": [
    {
     "data": {
      "text/html": [
       "<div>\n",
       "<style scoped>\n",
       "    .dataframe tbody tr th:only-of-type {\n",
       "        vertical-align: middle;\n",
       "    }\n",
       "\n",
       "    .dataframe tbody tr th {\n",
       "        vertical-align: top;\n",
       "    }\n",
       "\n",
       "    .dataframe thead tr th {\n",
       "        text-align: left;\n",
       "    }\n",
       "\n",
       "    .dataframe thead tr:last-of-type th {\n",
       "        text-align: right;\n",
       "    }\n",
       "</style>\n",
       "<table border=\"1\" class=\"dataframe\">\n",
       "  <thead>\n",
       "    <tr>\n",
       "      <th></th>\n",
       "      <th colspan=\"3\" halign=\"left\">prices</th>\n",
       "    </tr>\n",
       "    <tr>\n",
       "      <th></th>\n",
       "      <th>mean</th>\n",
       "      <th>min</th>\n",
       "      <th>max</th>\n",
       "    </tr>\n",
       "    <tr>\n",
       "      <th>pet_status</th>\n",
       "      <th></th>\n",
       "      <th></th>\n",
       "      <th></th>\n",
       "    </tr>\n",
       "  </thead>\n",
       "  <tbody>\n",
       "    <tr>\n",
       "      <th>0</th>\n",
       "      <td>11.574137</td>\n",
       "      <td>1.0</td>\n",
       "      <td>99999.0</td>\n",
       "    </tr>\n",
       "    <tr>\n",
       "      <th>1</th>\n",
       "      <td>14.093195</td>\n",
       "      <td>1.0</td>\n",
       "      <td>99999.0</td>\n",
       "    </tr>\n",
       "  </tbody>\n",
       "</table>\n",
       "</div>"
      ],
      "text/plain": [
       "               prices              \n",
       "                 mean  min      max\n",
       "pet_status                         \n",
       "0           11.574137  1.0  99999.0\n",
       "1           14.093195  1.0  99999.0"
      ]
     },
     "execution_count": 67,
     "metadata": {},
     "output_type": "execute_result"
    }
   ],
   "source": [
    "# Aggragating for pet status expenditure\n",
    "df_active.groupby('pet_status').agg({'prices':['mean', 'min', 'max']})"
   ]
  },
  {
   "cell_type": "code",
   "execution_count": 68,
   "id": "e0a4aba2",
   "metadata": {},
   "outputs": [
    {
     "data": {
      "image/png": "[encoded data removed]",
      "text/plain": [
       "<Figure size 640x480 with 1 Axes>"
      ]
     },
     "metadata": {},
     "output_type": "display_data"
    }
   ],
   "source": [
    "# Visualisation for pet status\n",
    "pie_pet = df_active['pet_status'].value_counts().plot.pie(labels=['No', 'Yes'], autopct=('%1.f%%'), colors=['green','yellow'])"
   ]
  },
  {
   "cell_type": "code",
   "execution_count": 69,
   "id": "04293eb7",
   "metadata": {},
   "outputs": [],
   "source": [
    "# Exporting pet_status pie chart\n",
    "pie_pet.figure.savefig(os.path.join(path, '04 Analysis','Visualisations', 'pie_petstatus.png'))"
   ]
  },
  {
   "cell_type": "markdown",
   "id": "5b82d7d0",
   "metadata": {},
   "source": [
    "### Alcohol Department Profile"
   ]
  },
  {
   "cell_type": "code",
   "execution_count": 70,
   "id": "24bee38d",
   "metadata": {},
   "outputs": [],
   "source": [
    "# Creating Alcohol flags\n",
    "df_active['alcohol_status'] = [1 if x == 'alcohol' else 0 for x in df_active['department']]\n",
    "df_active['alcohol_status'] = df_active.groupby(['user_id'])['alcohol_status'].transform(np.max)"
   ]
  },
  {
   "cell_type": "code",
   "execution_count": 71,
   "id": "e8b6a6a4",
   "metadata": {},
   "outputs": [
    {
     "data": {
      "text/plain": [
       "0    27896871\n",
       "1     2274553\n",
       "Name: alcohol_status, dtype: int64"
      ]
     },
     "execution_count": 71,
     "metadata": {},
     "output_type": "execute_result"
    }
   ],
   "source": [
    "# Checking alcohol status column\n",
    "df_active['alcohol_status'].value_counts(dropna=False)"
   ]
  },
  {
   "cell_type": "code",
   "execution_count": 72,
   "id": "d70c12b9",
   "metadata": {},
   "outputs": [
    {
     "data": {
      "text/html": [
       "<div>\n",
       "<style scoped>\n",
       "    .dataframe tbody tr th:only-of-type {\n",
       "        vertical-align: middle;\n",
       "    }\n",
       "\n",
       "    .dataframe tbody tr th {\n",
       "        vertical-align: top;\n",
       "    }\n",
       "\n",
       "    .dataframe thead tr th {\n",
       "        text-align: left;\n",
       "    }\n",
       "\n",
       "    .dataframe thead tr:last-of-type th {\n",
       "        text-align: right;\n",
       "    }\n",
       "</style>\n",
       "<table border=\"1\" class=\"dataframe\">\n",
       "  <thead>\n",
       "    <tr>\n",
       "      <th></th>\n",
       "      <th colspan=\"3\" halign=\"left\">median_days_since_prior_order</th>\n",
       "    </tr>\n",
       "    <tr>\n",
       "      <th></th>\n",
       "      <th>mean</th>\n",
       "      <th>min</th>\n",
       "      <th>max</th>\n",
       "    </tr>\n",
       "    <tr>\n",
       "      <th>alcohol_status</th>\n",
       "      <th></th>\n",
       "      <th></th>\n",
       "      <th></th>\n",
       "    </tr>\n",
       "  </thead>\n",
       "  <tbody>\n",
       "    <tr>\n",
       "      <th>0</th>\n",
       "      <td>10.360801</td>\n",
       "      <td>0.0</td>\n",
       "      <td>999.0</td>\n",
       "    </tr>\n",
       "    <tr>\n",
       "      <th>1</th>\n",
       "      <td>10.240074</td>\n",
       "      <td>0.0</td>\n",
       "      <td>999.0</td>\n",
       "    </tr>\n",
       "  </tbody>\n",
       "</table>\n",
       "</div>"
      ],
      "text/plain": [
       "               median_days_since_prior_order            \n",
       "                                        mean  min    max\n",
       "alcohol_status                                          \n",
       "0                                  10.360801  0.0  999.0\n",
       "1                                  10.240074  0.0  999.0"
      ]
     },
     "execution_count": 72,
     "metadata": {},
     "output_type": "execute_result"
    }
   ],
   "source": [
    "# Aggregating for alcohol usage frequency\n",
    "df_active.groupby('alcohol_status').agg({'median_days_since_prior_order':['mean', 'min', 'max']})"
   ]
  },
  {
   "cell_type": "code",
   "execution_count": 73,
   "id": "e1b9aa06",
   "metadata": {},
   "outputs": [
    {
     "data": {
      "text/html": [
       "<div>\n",
       "<style scoped>\n",
       "    .dataframe tbody tr th:only-of-type {\n",
       "        vertical-align: middle;\n",
       "    }\n",
       "\n",
       "    .dataframe tbody tr th {\n",
       "        vertical-align: top;\n",
       "    }\n",
       "\n",
       "    .dataframe thead tr th {\n",
       "        text-align: left;\n",
       "    }\n",
       "\n",
       "    .dataframe thead tr:last-of-type th {\n",
       "        text-align: right;\n",
       "    }\n",
       "</style>\n",
       "<table border=\"1\" class=\"dataframe\">\n",
       "  <thead>\n",
       "    <tr>\n",
       "      <th></th>\n",
       "      <th colspan=\"3\" halign=\"left\">prices</th>\n",
       "    </tr>\n",
       "    <tr>\n",
       "      <th></th>\n",
       "      <th>mean</th>\n",
       "      <th>min</th>\n",
       "      <th>max</th>\n",
       "    </tr>\n",
       "    <tr>\n",
       "      <th>alcohol_status</th>\n",
       "      <th></th>\n",
       "      <th></th>\n",
       "      <th></th>\n",
       "    </tr>\n",
       "  </thead>\n",
       "  <tbody>\n",
       "    <tr>\n",
       "      <th>0</th>\n",
       "      <td>10.882023</td>\n",
       "      <td>1.0</td>\n",
       "      <td>99999.0</td>\n",
       "    </tr>\n",
       "    <tr>\n",
       "      <th>1</th>\n",
       "      <td>23.828226</td>\n",
       "      <td>1.0</td>\n",
       "      <td>99999.0</td>\n",
       "    </tr>\n",
       "  </tbody>\n",
       "</table>\n",
       "</div>"
      ],
      "text/plain": [
       "                   prices              \n",
       "                     mean  min      max\n",
       "alcohol_status                         \n",
       "0               10.882023  1.0  99999.0\n",
       "1               23.828226  1.0  99999.0"
      ]
     },
     "execution_count": 73,
     "metadata": {},
     "output_type": "execute_result"
    }
   ],
   "source": [
    "# Aggregating by alcohol expenditure\n",
    "df_active.groupby('alcohol_status').agg({'prices':['mean', 'min', 'max']})"
   ]
  },
  {
   "cell_type": "code",
   "execution_count": 74,
   "id": "e0463258",
   "metadata": {},
   "outputs": [
    {
     "data": {
      "image/png": "[encoded data removed]",
      "text/plain": [
       "<Figure size 640x480 with 1 Axes>"
      ]
     },
     "metadata": {},
     "output_type": "display_data"
    }
   ],
   "source": [
    "# Creating alcohol_status visualisation\n",
    "pie_alcohol = df_active['alcohol_status'].value_counts().plot.pie(labels=['No', 'Yes'], autopct=('%1.f%%'), colors=['purple','pink'])"
   ]
  },
  {
   "cell_type": "code",
   "execution_count": 75,
   "id": "ae7651cd",
   "metadata": {},
   "outputs": [],
   "source": [
    "# Exporting Alcohol_status visualisation\n",
    "pie_alcohol.figure.savefig(os.path.join(path, '04 Analysis','Visualisations', 'pie_alcoholstatus.png'))"
   ]
  },
  {
   "cell_type": "markdown",
   "id": "ebb1be72",
   "metadata": {},
   "source": [
    "# 06 Comparing customer profiles with regions and departments"
   ]
  },
  {
   "cell_type": "code",
   "execution_count": 79,
   "id": "69ef2982",
   "metadata": {},
   "outputs": [],
   "source": [
    "# Creating crosstab for region and age group\n",
    "age_region = pd.crosstab(df_active['region'], df_active['age_group'], dropna = False, normalize = True)"
   ]
  },
  {
   "cell_type": "code",
   "execution_count": 80,
   "id": "3fc8d5fd",
   "metadata": {},
   "outputs": [
    {
     "data": {
      "text/html": [
       "<div>\n",
       "<style scoped>\n",
       "    .dataframe tbody tr th:only-of-type {\n",
       "        vertical-align: middle;\n",
       "    }\n",
       "\n",
       "    .dataframe tbody tr th {\n",
       "        vertical-align: top;\n",
       "    }\n",
       "\n",
       "    .dataframe thead th {\n",
       "        text-align: right;\n",
       "    }\n",
       "</style>\n",
       "<table border=\"1\" class=\"dataframe\">\n",
       "  <thead>\n",
       "    <tr style=\"text-align: right;\">\n",
       "      <th>age_group</th>\n",
       "      <th>Adult</th>\n",
       "      <th>Senior</th>\n",
       "      <th>Young adult</th>\n",
       "    </tr>\n",
       "    <tr>\n",
       "      <th>region</th>\n",
       "      <th></th>\n",
       "      <th></th>\n",
       "      <th></th>\n",
       "    </tr>\n",
       "  </thead>\n",
       "  <tbody>\n",
       "    <tr>\n",
       "      <th>Midwest</th>\n",
       "      <td>0.143899</td>\n",
       "      <td>0.061406</td>\n",
       "      <td>0.029027</td>\n",
       "    </tr>\n",
       "    <tr>\n",
       "      <th>Northeast</th>\n",
       "      <td>0.106602</td>\n",
       "      <td>0.047970</td>\n",
       "      <td>0.021898</td>\n",
       "    </tr>\n",
       "    <tr>\n",
       "      <th>South</th>\n",
       "      <td>0.203084</td>\n",
       "      <td>0.087545</td>\n",
       "      <td>0.042473</td>\n",
       "    </tr>\n",
       "    <tr>\n",
       "      <th>West</th>\n",
       "      <td>0.156848</td>\n",
       "      <td>0.067889</td>\n",
       "      <td>0.031359</td>\n",
       "    </tr>\n",
       "  </tbody>\n",
       "</table>\n",
       "</div>"
      ],
      "text/plain": [
       "age_group     Adult    Senior  Young adult\n",
       "region                                    \n",
       "Midwest    0.143899  0.061406     0.029027\n",
       "Northeast  0.106602  0.047970     0.021898\n",
       "South      0.203084  0.087545     0.042473\n",
       "West       0.156848  0.067889     0.031359"
      ]
     },
     "execution_count": 80,
     "metadata": {},
     "output_type": "execute_result"
    }
   ],
   "source": [
    "# Checking crosstab \n",
    "age_region"
   ]
  },
  {
   "cell_type": "code",
   "execution_count": 81,
   "id": "602091f8",
   "metadata": {},
   "outputs": [
    {
     "data": {
      "image/png": "[encoded data removed]",
      "text/plain": [
       "<Figure size 640x480 with 1 Axes>"
      ]
     },
     "metadata": {},
     "output_type": "display_data"
    }
   ],
   "source": [
    "# Age region bar chart\n",
    "bar_age_region = age_region.plot(kind='bar', stacked =True)"
   ]
  },
  {
   "cell_type": "code",
   "execution_count": 82,
   "id": "cedeeaa5",
   "metadata": {},
   "outputs": [],
   "source": [
    "# Exporting age/ region bar chart\n",
    "bar_age_region.figure.savefig(os.path.join(path, '04 Analysis','Visualisations', 'bar_age_region.png'))"
   ]
  },
  {
   "cell_type": "code",
   "execution_count": 83,
   "id": "7e9f1373",
   "metadata": {},
   "outputs": [],
   "source": [
    "# Creating crosstab for region and income\n",
    "region_income = pd.crosstab(df_active['region'], df_active['income_group'], dropna = False)"
   ]
  },
  {
   "cell_type": "code",
   "execution_count": 84,
   "id": "ef3f7025",
   "metadata": {},
   "outputs": [
    {
     "data": {
      "text/html": [
       "<div>\n",
       "<style scoped>\n",
       "    .dataframe tbody tr th:only-of-type {\n",
       "        vertical-align: middle;\n",
       "    }\n",
       "\n",
       "    .dataframe tbody tr th {\n",
       "        vertical-align: top;\n",
       "    }\n",
       "\n",
       "    .dataframe thead th {\n",
       "        text-align: right;\n",
       "    }\n",
       "</style>\n",
       "<table border=\"1\" class=\"dataframe\">\n",
       "  <thead>\n",
       "    <tr style=\"text-align: right;\">\n",
       "      <th>income_group</th>\n",
       "      <th>High income</th>\n",
       "      <th>Low income</th>\n",
       "      <th>Middle income</th>\n",
       "    </tr>\n",
       "    <tr>\n",
       "      <th>region</th>\n",
       "      <th></th>\n",
       "      <th></th>\n",
       "      <th></th>\n",
       "    </tr>\n",
       "  </thead>\n",
       "  <tbody>\n",
       "    <tr>\n",
       "      <th>Midwest</th>\n",
       "      <td>893309</td>\n",
       "      <td>360797</td>\n",
       "      <td>5815482</td>\n",
       "    </tr>\n",
       "    <tr>\n",
       "      <th>Northeast</th>\n",
       "      <td>662099</td>\n",
       "      <td>272252</td>\n",
       "      <td>4390000</td>\n",
       "    </tr>\n",
       "    <tr>\n",
       "      <th>South</th>\n",
       "      <td>1261430</td>\n",
       "      <td>533978</td>\n",
       "      <td>8254594</td>\n",
       "    </tr>\n",
       "    <tr>\n",
       "      <th>West</th>\n",
       "      <td>985045</td>\n",
       "      <td>388710</td>\n",
       "      <td>6353037</td>\n",
       "    </tr>\n",
       "  </tbody>\n",
       "</table>\n",
       "</div>"
      ],
      "text/plain": [
       "income_group  High income  Low income  Middle income\n",
       "region                                              \n",
       "Midwest            893309      360797        5815482\n",
       "Northeast          662099      272252        4390000\n",
       "South             1261430      533978        8254594\n",
       "West               985045      388710        6353037"
      ]
     },
     "execution_count": 84,
     "metadata": {},
     "output_type": "execute_result"
    }
   ],
   "source": [
    "# Checking crosstab\n",
    "region_income"
   ]
  },
  {
   "cell_type": "code",
   "execution_count": 85,
   "id": "6dea546f",
   "metadata": {},
   "outputs": [
    {
     "data": {
      "image/png": "[encoded data removed]",
      "text/plain": [
       "<Figure size 640x480 with 1 Axes>"
      ]
     },
     "metadata": {},
     "output_type": "display_data"
    }
   ],
   "source": [
    "# Income/ region bar chart\n",
    "bar_region_income = region_income.plot(kind='bar', stacked =True)"
   ]
  },
  {
   "cell_type": "code",
   "execution_count": 86,
   "id": "0b5258d2",
   "metadata": {},
   "outputs": [],
   "source": [
    "# Exporting region/ income bar chart\n",
    "bar_region_income.figure.savefig(os.path.join(path, '04 Analysis','Visualisations', 'bar_region_income.png'))"
   ]
  },
  {
   "cell_type": "code",
   "execution_count": 87,
   "id": "a6ad0696",
   "metadata": {},
   "outputs": [],
   "source": [
    "# Creating crosstab for region and department\n",
    "region_dept = pd.crosstab(df_active['department'], df_active['region'], dropna = False)"
   ]
  },
  {
   "cell_type": "code",
   "execution_count": 88,
   "id": "a0fd2364",
   "metadata": {},
   "outputs": [
    {
     "data": {
      "text/html": [
       "<div>\n",
       "<style scoped>\n",
       "    .dataframe tbody tr th:only-of-type {\n",
       "        vertical-align: middle;\n",
       "    }\n",
       "\n",
       "    .dataframe tbody tr th {\n",
       "        vertical-align: top;\n",
       "    }\n",
       "\n",
       "    .dataframe thead th {\n",
       "        text-align: right;\n",
       "    }\n",
       "</style>\n",
       "<table border=\"1\" class=\"dataframe\">\n",
       "  <thead>\n",
       "    <tr style=\"text-align: right;\">\n",
       "      <th>region</th>\n",
       "      <th>Midwest</th>\n",
       "      <th>Northeast</th>\n",
       "      <th>South</th>\n",
       "      <th>West</th>\n",
       "    </tr>\n",
       "    <tr>\n",
       "      <th>department</th>\n",
       "      <th></th>\n",
       "      <th></th>\n",
       "      <th></th>\n",
       "      <th></th>\n",
       "    </tr>\n",
       "  </thead>\n",
       "  <tbody>\n",
       "    <tr>\n",
       "      <th>alcohol</th>\n",
       "      <td>32883</td>\n",
       "      <td>24114</td>\n",
       "      <td>47069</td>\n",
       "      <td>35507</td>\n",
       "    </tr>\n",
       "    <tr>\n",
       "      <th>babies</th>\n",
       "      <td>94027</td>\n",
       "      <td>71370</td>\n",
       "      <td>136961</td>\n",
       "      <td>100708</td>\n",
       "    </tr>\n",
       "    <tr>\n",
       "      <th>bakery</th>\n",
       "      <td>255082</td>\n",
       "      <td>194076</td>\n",
       "      <td>362204</td>\n",
       "      <td>281126</td>\n",
       "    </tr>\n",
       "    <tr>\n",
       "      <th>beverages</th>\n",
       "      <td>583228</td>\n",
       "      <td>451674</td>\n",
       "      <td>837788</td>\n",
       "      <td>634551</td>\n",
       "    </tr>\n",
       "    <tr>\n",
       "      <th>breakfast</th>\n",
       "      <td>151846</td>\n",
       "      <td>114701</td>\n",
       "      <td>217548</td>\n",
       "      <td>169324</td>\n",
       "    </tr>\n",
       "    <tr>\n",
       "      <th>bulk</th>\n",
       "      <td>7806</td>\n",
       "      <td>5482</td>\n",
       "      <td>10953</td>\n",
       "      <td>8600</td>\n",
       "    </tr>\n",
       "    <tr>\n",
       "      <th>canned goods</th>\n",
       "      <td>230173</td>\n",
       "      <td>171517</td>\n",
       "      <td>327746</td>\n",
       "      <td>252605</td>\n",
       "    </tr>\n",
       "    <tr>\n",
       "      <th>dairy eggs</th>\n",
       "      <td>1182974</td>\n",
       "      <td>892624</td>\n",
       "      <td>1682429</td>\n",
       "      <td>1295413</td>\n",
       "    </tr>\n",
       "    <tr>\n",
       "      <th>deli</th>\n",
       "      <td>228200</td>\n",
       "      <td>173837</td>\n",
       "      <td>325082</td>\n",
       "      <td>250931</td>\n",
       "    </tr>\n",
       "    <tr>\n",
       "      <th>dry goods pasta</th>\n",
       "      <td>187653</td>\n",
       "      <td>139489</td>\n",
       "      <td>264766</td>\n",
       "      <td>205775</td>\n",
       "    </tr>\n",
       "    <tr>\n",
       "      <th>frozen</th>\n",
       "      <td>483630</td>\n",
       "      <td>359106</td>\n",
       "      <td>689146</td>\n",
       "      <td>527443</td>\n",
       "    </tr>\n",
       "    <tr>\n",
       "      <th>household</th>\n",
       "      <td>161733</td>\n",
       "      <td>120839</td>\n",
       "      <td>222964</td>\n",
       "      <td>172759</td>\n",
       "    </tr>\n",
       "    <tr>\n",
       "      <th>international</th>\n",
       "      <td>58854</td>\n",
       "      <td>43342</td>\n",
       "      <td>82329</td>\n",
       "      <td>64197</td>\n",
       "    </tr>\n",
       "    <tr>\n",
       "      <th>meat seafood</th>\n",
       "      <td>153688</td>\n",
       "      <td>115204</td>\n",
       "      <td>217724</td>\n",
       "      <td>169113</td>\n",
       "    </tr>\n",
       "    <tr>\n",
       "      <th>missing</th>\n",
       "      <td>15056</td>\n",
       "      <td>11104</td>\n",
       "      <td>21024</td>\n",
       "      <td>15357</td>\n",
       "    </tr>\n",
       "    <tr>\n",
       "      <th>other</th>\n",
       "      <td>7737</td>\n",
       "      <td>6060</td>\n",
       "      <td>11273</td>\n",
       "      <td>8345</td>\n",
       "    </tr>\n",
       "    <tr>\n",
       "      <th>pantry</th>\n",
       "      <td>408085</td>\n",
       "      <td>303892</td>\n",
       "      <td>575074</td>\n",
       "      <td>445063</td>\n",
       "    </tr>\n",
       "    <tr>\n",
       "      <th>personal care</th>\n",
       "      <td>97357</td>\n",
       "      <td>72593</td>\n",
       "      <td>138415</td>\n",
       "      <td>103442</td>\n",
       "    </tr>\n",
       "    <tr>\n",
       "      <th>pets</th>\n",
       "      <td>20748</td>\n",
       "      <td>17242</td>\n",
       "      <td>28893</td>\n",
       "      <td>23456</td>\n",
       "    </tr>\n",
       "    <tr>\n",
       "      <th>produce</th>\n",
       "      <td>2080206</td>\n",
       "      <td>1554985</td>\n",
       "      <td>2955891</td>\n",
       "      <td>2268862</td>\n",
       "    </tr>\n",
       "    <tr>\n",
       "      <th>snacks</th>\n",
       "      <td>629156</td>\n",
       "      <td>481100</td>\n",
       "      <td>894880</td>\n",
       "      <td>694215</td>\n",
       "    </tr>\n",
       "  </tbody>\n",
       "</table>\n",
       "</div>"
      ],
      "text/plain": [
       "region           Midwest  Northeast    South     West\n",
       "department                                           \n",
       "alcohol            32883      24114    47069    35507\n",
       "babies             94027      71370   136961   100708\n",
       "bakery            255082     194076   362204   281126\n",
       "beverages         583228     451674   837788   634551\n",
       "breakfast         151846     114701   217548   169324\n",
       "bulk                7806       5482    10953     8600\n",
       "canned goods      230173     171517   327746   252605\n",
       "dairy eggs       1182974     892624  1682429  1295413\n",
       "deli              228200     173837   325082   250931\n",
       "dry goods pasta   187653     139489   264766   205775\n",
       "frozen            483630     359106   689146   527443\n",
       "household         161733     120839   222964   172759\n",
       "international      58854      43342    82329    64197\n",
       "meat seafood      153688     115204   217724   169113\n",
       "missing            15056      11104    21024    15357\n",
       "other               7737       6060    11273     8345\n",
       "pantry            408085     303892   575074   445063\n",
       "personal care      97357      72593   138415   103442\n",
       "pets               20748      17242    28893    23456\n",
       "produce          2080206    1554985  2955891  2268862\n",
       "snacks            629156     481100   894880   694215"
      ]
     },
     "execution_count": 88,
     "metadata": {},
     "output_type": "execute_result"
    }
   ],
   "source": [
    "# Checking Crosstab\n",
    "region_dept"
   ]
  },
  {
   "cell_type": "code",
   "execution_count": 89,
   "id": "22151855",
   "metadata": {},
   "outputs": [
    {
     "data": {
      "image/png": "[encoded data removed]",
      "text/plain": [
       "<Figure size 640x480 with 1 Axes>"
      ]
     },
     "metadata": {},
     "output_type": "display_data"
    }
   ],
   "source": [
    "# Region Department Bar Chart\n",
    "bar_region_dept = region_dept.plot(kind='bar', stacked =True)"
   ]
  },
  {
   "cell_type": "code",
   "execution_count": 90,
   "id": "66c8f172",
   "metadata": {},
   "outputs": [],
   "source": [
    "# Exporting region/ department bar chart\n",
    "bar_region_dept.figure.savefig(os.path.join(path, '04 Analysis','Visualisations', 'bar_region_department.png'))"
   ]
  },
  {
   "cell_type": "code",
   "execution_count": 91,
   "id": "f071b240",
   "metadata": {},
   "outputs": [],
   "source": [
    "# Creating crosstab for region and price range\n",
    "region_pr = pd.crosstab(df_active['region'], df_active['price_range_loc'], dropna = False)"
   ]
  },
  {
   "cell_type": "code",
   "execution_count": 92,
   "id": "391b0276",
   "metadata": {},
   "outputs": [
    {
     "data": {
      "text/html": [
       "<div>\n",
       "<style scoped>\n",
       "    .dataframe tbody tr th:only-of-type {\n",
       "        vertical-align: middle;\n",
       "    }\n",
       "\n",
       "    .dataframe tbody tr th {\n",
       "        vertical-align: top;\n",
       "    }\n",
       "\n",
       "    .dataframe thead th {\n",
       "        text-align: right;\n",
       "    }\n",
       "</style>\n",
       "<table border=\"1\" class=\"dataframe\">\n",
       "  <thead>\n",
       "    <tr style=\"text-align: right;\">\n",
       "      <th>price_range_loc</th>\n",
       "      <th>High-range product</th>\n",
       "      <th>Low-range product</th>\n",
       "      <th>Mid-range product</th>\n",
       "    </tr>\n",
       "    <tr>\n",
       "      <th>region</th>\n",
       "      <th></th>\n",
       "      <th></th>\n",
       "      <th></th>\n",
       "    </tr>\n",
       "  </thead>\n",
       "  <tbody>\n",
       "    <tr>\n",
       "      <th>Midwest</th>\n",
       "      <td>90599</td>\n",
       "      <td>2158175</td>\n",
       "      <td>4772198</td>\n",
       "    </tr>\n",
       "    <tr>\n",
       "      <th>Northeast</th>\n",
       "      <td>67799</td>\n",
       "      <td>1631466</td>\n",
       "      <td>3588112</td>\n",
       "    </tr>\n",
       "    <tr>\n",
       "      <th>South</th>\n",
       "      <td>128845</td>\n",
       "      <td>3065459</td>\n",
       "      <td>6785196</td>\n",
       "    </tr>\n",
       "    <tr>\n",
       "      <th>West</th>\n",
       "      <td>99478</td>\n",
       "      <td>2361905</td>\n",
       "      <td>5211900</td>\n",
       "    </tr>\n",
       "  </tbody>\n",
       "</table>\n",
       "</div>"
      ],
      "text/plain": [
       "price_range_loc  High-range product  Low-range product  Mid-range product\n",
       "region                                                                   \n",
       "Midwest                       90599            2158175            4772198\n",
       "Northeast                     67799            1631466            3588112\n",
       "South                        128845            3065459            6785196\n",
       "West                          99478            2361905            5211900"
      ]
     },
     "execution_count": 92,
     "metadata": {},
     "output_type": "execute_result"
    }
   ],
   "source": [
    "# Checiking crosstab\n",
    "region_pr"
   ]
  },
  {
   "cell_type": "code",
   "execution_count": 93,
   "id": "7ec64f0f",
   "metadata": {},
   "outputs": [
    {
     "data": {
      "image/png": "[encoded data removed]",
      "text/plain": [
       "<Figure size 640x480 with 1 Axes>"
      ]
     },
     "metadata": {},
     "output_type": "display_data"
    }
   ],
   "source": [
    "# Region/ price range bar chart\n",
    "bar_region_pr = region_pr.plot(kind='bar', stacked =True)"
   ]
  },
  {
   "cell_type": "code",
   "execution_count": 94,
   "id": "af4685ce",
   "metadata": {},
   "outputs": [],
   "source": [
    "# Exporting region/ price range bar chart\n",
    "bar_region_pr.figure.savefig(os.path.join(path, '04 Analysis','Visualisations', 'bar_region_pricerange.png'))"
   ]
  },
  {
   "cell_type": "code",
   "execution_count": 96,
   "id": "1a155a47",
   "metadata": {},
   "outputs": [],
   "source": [
    "# Creating crosstab for income and frequency\n",
    "income_freq = pd.crosstab(df_active['income_group'], df_active['frequency_flag'], dropna = False)"
   ]
  },
  {
   "cell_type": "code",
   "execution_count": 97,
   "id": "95f1e261",
   "metadata": {},
   "outputs": [
    {
     "data": {
      "text/html": [
       "<div>\n",
       "<style scoped>\n",
       "    .dataframe tbody tr th:only-of-type {\n",
       "        vertical-align: middle;\n",
       "    }\n",
       "\n",
       "    .dataframe tbody tr th {\n",
       "        vertical-align: top;\n",
       "    }\n",
       "\n",
       "    .dataframe thead th {\n",
       "        text-align: right;\n",
       "    }\n",
       "</style>\n",
       "<table border=\"1\" class=\"dataframe\">\n",
       "  <thead>\n",
       "    <tr style=\"text-align: right;\">\n",
       "      <th>frequency_flag</th>\n",
       "      <th>Frequent customer</th>\n",
       "      <th>Non-frequent customer</th>\n",
       "      <th>Regular customer</th>\n",
       "    </tr>\n",
       "    <tr>\n",
       "      <th>income_group</th>\n",
       "      <th></th>\n",
       "      <th></th>\n",
       "      <th></th>\n",
       "    </tr>\n",
       "  </thead>\n",
       "  <tbody>\n",
       "    <tr>\n",
       "      <th>High income</th>\n",
       "      <td>2578783</td>\n",
       "      <td>382996</td>\n",
       "      <td>840104</td>\n",
       "    </tr>\n",
       "    <tr>\n",
       "      <th>Low income</th>\n",
       "      <td>982997</td>\n",
       "      <td>192453</td>\n",
       "      <td>380287</td>\n",
       "    </tr>\n",
       "    <tr>\n",
       "      <th>Middle income</th>\n",
       "      <td>16613318</td>\n",
       "      <td>2610312</td>\n",
       "      <td>5589483</td>\n",
       "    </tr>\n",
       "  </tbody>\n",
       "</table>\n",
       "</div>"
      ],
      "text/plain": [
       "frequency_flag  Frequent customer  Non-frequent customer  Regular customer\n",
       "income_group                                                              \n",
       "High income               2578783                 382996            840104\n",
       "Low income                 982997                 192453            380287\n",
       "Middle income            16613318                2610312           5589483"
      ]
     },
     "execution_count": 97,
     "metadata": {},
     "output_type": "execute_result"
    }
   ],
   "source": [
    "# Checking crosstab\n",
    "income_freq"
   ]
  },
  {
   "cell_type": "code",
   "execution_count": 98,
   "id": "f0f4fdf8",
   "metadata": {},
   "outputs": [
    {
     "data": {
      "image/png": "[encoded data removed]",
      "text/plain": [
       "<Figure size 640x480 with 1 Axes>"
      ]
     },
     "metadata": {},
     "output_type": "display_data"
    }
   ],
   "source": [
    "# Income group and order frequency bar chart\n",
    "bar_income_freq = income_freq.plot(kind='bar', stacked =True)"
   ]
  },
  {
   "cell_type": "code",
   "execution_count": 99,
   "id": "2d49176d",
   "metadata": {},
   "outputs": [],
   "source": [
    "# Exporting income group/ order frequency bar chart\n",
    "bar_income_freq.figure.savefig(os.path.join(path, '04 Analysis','Visualisations', 'bar_income_order_frequency.png'))"
   ]
  },
  {
   "cell_type": "code",
   "execution_count": 102,
   "id": "f9aaf3ad",
   "metadata": {},
   "outputs": [],
   "source": [
    "# Creating crosstab for age and frequency\n",
    "age_freq = pd.crosstab(df_active['age_group'], df_active['frequency_flag'], dropna = False)"
   ]
  },
  {
   "cell_type": "code",
   "execution_count": 103,
   "id": "c533980e",
   "metadata": {},
   "outputs": [
    {
     "data": {
      "text/html": [
       "<div>\n",
       "<style scoped>\n",
       "    .dataframe tbody tr th:only-of-type {\n",
       "        vertical-align: middle;\n",
       "    }\n",
       "\n",
       "    .dataframe tbody tr th {\n",
       "        vertical-align: top;\n",
       "    }\n",
       "\n",
       "    .dataframe thead th {\n",
       "        text-align: right;\n",
       "    }\n",
       "</style>\n",
       "<table border=\"1\" class=\"dataframe\">\n",
       "  <thead>\n",
       "    <tr style=\"text-align: right;\">\n",
       "      <th>frequency_flag</th>\n",
       "      <th>Frequent customer</th>\n",
       "      <th>Non-frequent customer</th>\n",
       "      <th>Regular customer</th>\n",
       "    </tr>\n",
       "    <tr>\n",
       "      <th>age_group</th>\n",
       "      <th></th>\n",
       "      <th></th>\n",
       "      <th></th>\n",
       "    </tr>\n",
       "  </thead>\n",
       "  <tbody>\n",
       "    <tr>\n",
       "      <th>Adult</th>\n",
       "      <td>12285728</td>\n",
       "      <td>1950914</td>\n",
       "      <td>4180962</td>\n",
       "    </tr>\n",
       "    <tr>\n",
       "      <th>Senior</th>\n",
       "      <td>5364670</td>\n",
       "      <td>838053</td>\n",
       "      <td>1787002</td>\n",
       "    </tr>\n",
       "    <tr>\n",
       "      <th>Young adult</th>\n",
       "      <td>2525234</td>\n",
       "      <td>396794</td>\n",
       "      <td>842067</td>\n",
       "    </tr>\n",
       "  </tbody>\n",
       "</table>\n",
       "</div>"
      ],
      "text/plain": [
       "frequency_flag  Frequent customer  Non-frequent customer  Regular customer\n",
       "age_group                                                                 \n",
       "Adult                    12285728                1950914           4180962\n",
       "Senior                    5364670                 838053           1787002\n",
       "Young adult               2525234                 396794            842067"
      ]
     },
     "execution_count": 103,
     "metadata": {},
     "output_type": "execute_result"
    }
   ],
   "source": [
    "# Checking crosstab\n",
    "age_freq"
   ]
  },
  {
   "cell_type": "code",
   "execution_count": 104,
   "id": "fa6fb033",
   "metadata": {},
   "outputs": [
    {
     "data": {
      "image/png": "[encoded data removed]",
      "text/plain": [
       "<Figure size 640x480 with 1 Axes>"
      ]
     },
     "metadata": {},
     "output_type": "display_data"
    }
   ],
   "source": [
    "# Age/ order frequency bar chart\n",
    "bar_age_freq = age_freq.plot(kind='bar', stacked =True)"
   ]
  },
  {
   "cell_type": "code",
   "execution_count": 105,
   "id": "798dc795",
   "metadata": {},
   "outputs": [],
   "source": [
    "# Exporting age/ order frequency bar chart\n",
    "bar_age_freq.figure.savefig(os.path.join(path, '04 Analysis','Visualisations', 'bar_age_order_freq.png'))"
   ]
  },
  {
   "cell_type": "code",
   "execution_count": 107,
   "id": "ba3fd35c",
   "metadata": {},
   "outputs": [
    {
     "data": {
      "image/png": "[encoded data removed]",
      "text/plain": [
       "<Figure size 640x480 with 1 Axes>"
      ]
     },
     "metadata": {},
     "output_type": "display_data"
    }
   ],
   "source": [
    "# Creating department categories bar chart\n",
    "bar_dept = df_active.department.value_counts().sort_values().plot(kind = 'barh')"
   ]
  },
  {
   "cell_type": "code",
   "execution_count": 108,
   "id": "37dadc00",
   "metadata": {},
   "outputs": [],
   "source": [
    "# Creating department/ order frequency crosstab\n",
    "dept_freq = pd.crosstab(df_active['department'], df_active['frequency_flag'], dropna = False)"
   ]
  },
  {
   "cell_type": "code",
   "execution_count": 109,
   "id": "9dc42856",
   "metadata": {},
   "outputs": [
    {
     "data": {
      "text/html": [
       "<div>\n",
       "<style scoped>\n",
       "    .dataframe tbody tr th:only-of-type {\n",
       "        vertical-align: middle;\n",
       "    }\n",
       "\n",
       "    .dataframe tbody tr th {\n",
       "        vertical-align: top;\n",
       "    }\n",
       "\n",
       "    .dataframe thead th {\n",
       "        text-align: right;\n",
       "    }\n",
       "</style>\n",
       "<table border=\"1\" class=\"dataframe\">\n",
       "  <thead>\n",
       "    <tr style=\"text-align: right;\">\n",
       "      <th>frequency_flag</th>\n",
       "      <th>Frequent customer</th>\n",
       "      <th>Non-frequent customer</th>\n",
       "      <th>Regular customer</th>\n",
       "    </tr>\n",
       "    <tr>\n",
       "      <th>department</th>\n",
       "      <th></th>\n",
       "      <th></th>\n",
       "      <th></th>\n",
       "    </tr>\n",
       "  </thead>\n",
       "  <tbody>\n",
       "    <tr>\n",
       "      <th>alcohol</th>\n",
       "      <td>94905</td>\n",
       "      <td>14552</td>\n",
       "      <td>30116</td>\n",
       "    </tr>\n",
       "    <tr>\n",
       "      <th>babies</th>\n",
       "      <td>303918</td>\n",
       "      <td>28707</td>\n",
       "      <td>70441</td>\n",
       "    </tr>\n",
       "    <tr>\n",
       "      <th>bakery</th>\n",
       "      <td>733011</td>\n",
       "      <td>113308</td>\n",
       "      <td>246169</td>\n",
       "    </tr>\n",
       "    <tr>\n",
       "      <th>beverages</th>\n",
       "      <td>1672485</td>\n",
       "      <td>268466</td>\n",
       "      <td>566290</td>\n",
       "    </tr>\n",
       "    <tr>\n",
       "      <th>breakfast</th>\n",
       "      <td>434045</td>\n",
       "      <td>69718</td>\n",
       "      <td>149656</td>\n",
       "    </tr>\n",
       "    <tr>\n",
       "      <th>bulk</th>\n",
       "      <td>24209</td>\n",
       "      <td>2757</td>\n",
       "      <td>5875</td>\n",
       "    </tr>\n",
       "    <tr>\n",
       "      <th>canned goods</th>\n",
       "      <td>622852</td>\n",
       "      <td>118080</td>\n",
       "      <td>241109</td>\n",
       "    </tr>\n",
       "    <tr>\n",
       "      <th>dairy eggs</th>\n",
       "      <td>3459339</td>\n",
       "      <td>499664</td>\n",
       "      <td>1094437</td>\n",
       "    </tr>\n",
       "    <tr>\n",
       "      <th>deli</th>\n",
       "      <td>641495</td>\n",
       "      <td>108177</td>\n",
       "      <td>228378</td>\n",
       "    </tr>\n",
       "    <tr>\n",
       "      <th>dry goods pasta</th>\n",
       "      <td>505608</td>\n",
       "      <td>95527</td>\n",
       "      <td>196548</td>\n",
       "    </tr>\n",
       "    <tr>\n",
       "      <th>frozen</th>\n",
       "      <td>1291591</td>\n",
       "      <td>250186</td>\n",
       "      <td>517548</td>\n",
       "    </tr>\n",
       "    <tr>\n",
       "      <th>household</th>\n",
       "      <td>411687</td>\n",
       "      <td>91631</td>\n",
       "      <td>174977</td>\n",
       "    </tr>\n",
       "    <tr>\n",
       "      <th>international</th>\n",
       "      <td>161630</td>\n",
       "      <td>28873</td>\n",
       "      <td>58219</td>\n",
       "    </tr>\n",
       "    <tr>\n",
       "      <th>meat seafood</th>\n",
       "      <td>424875</td>\n",
       "      <td>73672</td>\n",
       "      <td>157182</td>\n",
       "    </tr>\n",
       "    <tr>\n",
       "      <th>missing</th>\n",
       "      <td>45515</td>\n",
       "      <td>4721</td>\n",
       "      <td>12305</td>\n",
       "    </tr>\n",
       "    <tr>\n",
       "      <th>other</th>\n",
       "      <td>22260</td>\n",
       "      <td>3648</td>\n",
       "      <td>7507</td>\n",
       "    </tr>\n",
       "    <tr>\n",
       "      <th>pantry</th>\n",
       "      <td>1131136</td>\n",
       "      <td>197897</td>\n",
       "      <td>403081</td>\n",
       "    </tr>\n",
       "    <tr>\n",
       "      <th>personal care</th>\n",
       "      <td>258867</td>\n",
       "      <td>51334</td>\n",
       "      <td>101606</td>\n",
       "    </tr>\n",
       "    <tr>\n",
       "      <th>pets</th>\n",
       "      <td>54528</td>\n",
       "      <td>10944</td>\n",
       "      <td>24867</td>\n",
       "    </tr>\n",
       "    <tr>\n",
       "      <th>produce</th>\n",
       "      <td>6065115</td>\n",
       "      <td>874640</td>\n",
       "      <td>1920189</td>\n",
       "    </tr>\n",
       "    <tr>\n",
       "      <th>snacks</th>\n",
       "      <td>1816561</td>\n",
       "      <td>279259</td>\n",
       "      <td>603531</td>\n",
       "    </tr>\n",
       "  </tbody>\n",
       "</table>\n",
       "</div>"
      ],
      "text/plain": [
       "frequency_flag   Frequent customer  Non-frequent customer  Regular customer\n",
       "department                                                                 \n",
       "alcohol                      94905                  14552             30116\n",
       "babies                      303918                  28707             70441\n",
       "bakery                      733011                 113308            246169\n",
       "beverages                  1672485                 268466            566290\n",
       "breakfast                   434045                  69718            149656\n",
       "bulk                         24209                   2757              5875\n",
       "canned goods                622852                 118080            241109\n",
       "dairy eggs                 3459339                 499664           1094437\n",
       "deli                        641495                 108177            228378\n",
       "dry goods pasta             505608                  95527            196548\n",
       "frozen                     1291591                 250186            517548\n",
       "household                   411687                  91631            174977\n",
       "international               161630                  28873             58219\n",
       "meat seafood                424875                  73672            157182\n",
       "missing                      45515                   4721             12305\n",
       "other                        22260                   3648              7507\n",
       "pantry                     1131136                 197897            403081\n",
       "personal care               258867                  51334            101606\n",
       "pets                         54528                  10944             24867\n",
       "produce                    6065115                 874640           1920189\n",
       "snacks                     1816561                 279259            603531"
      ]
     },
     "execution_count": 109,
     "metadata": {},
     "output_type": "execute_result"
    }
   ],
   "source": [
    "# Checking department/ order frequency crosstab\n",
    "dept_freq"
   ]
  },
  {
   "cell_type": "code",
   "execution_count": 110,
   "id": "41fbb800",
   "metadata": {},
   "outputs": [
    {
     "data": {
      "image/png": "[encoded data removed]",
      "text/plain": [
       "<Figure size 640x480 with 1 Axes>"
      ]
     },
     "metadata": {},
     "output_type": "display_data"
    }
   ],
   "source": [
    "# Department/ order frequency bar chart\n",
    "bar_dept_freq = dept_freq.plot(kind='bar', stacked =True)"
   ]
  },
  {
   "cell_type": "code",
   "execution_count": 111,
   "id": "789f9201",
   "metadata": {},
   "outputs": [],
   "source": [
    "# Exporting department/ order frequency bar chart \n",
    "bar_dept_freq.figure.savefig(os.path.join(path, '04 Analysis','Visualisations', 'bar_dept_order_freq.png'))"
   ]
  },
  {
   "cell_type": "markdown",
   "id": "3f2c15b6",
   "metadata": {},
   "source": [
    "# 07 Eporting Final Dataframe"
   ]
  },
  {
   "cell_type": "code",
   "execution_count": 112,
   "id": "0072f418",
   "metadata": {},
   "outputs": [],
   "source": [
    "df_active.to_pickle(os.path.join(path, '02 Data','Prepared Data', 'final_instacart_dataframe.pkl'))"
   ]
  }
 ],
 "metadata": {
  "kernelspec": {
   "display_name": "Python 3 (ipykernel)",
   "language": "python",
   "name": "python3"
  },
  "language_info": {
   "codemirror_mode": {
    "name": "ipython",
    "version": 3
   },
   "file_extension": ".py",
   "mimetype": "text/x-python",
   "name": "python",
   "nbconvert_exporter": "python",
   "pygments_lexer": "ipython3",
   "version": "3.9.13"
  }
 },
 "nbformat": 4,
 "nbformat_minor": 5
}
